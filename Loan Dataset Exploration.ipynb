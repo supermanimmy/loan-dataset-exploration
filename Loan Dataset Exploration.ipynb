{
 "cells": [
  {
   "cell_type": "markdown",
   "id": "a18de3de",
   "metadata": {},
   "source": [
    "# Loan Data Set Exploration"
   ]
  },
  {
   "cell_type": "markdown",
   "id": "3d2344d4",
   "metadata": {},
   "source": [
    "## Importing required libraries"
   ]
  },
  {
   "cell_type": "code",
   "execution_count": 269,
   "id": "6f37c330",
   "metadata": {},
   "outputs": [],
   "source": [
    "import pandas as pd\n",
    "import numpy as np\n",
    "import scipy.stats\n",
    "\n",
    "import matplotlib\n",
    "import matplotlib.pyplot as pp\n",
    "import seaborn as sns\n",
    "\n",
    "from string import ascii_letters\n",
    "import pandas.plotting\n",
    "\n",
    "from IPython import display\n",
    "from ipywidgets import interact, widgets\n",
    "\n",
    "%matplotlib inline\n",
    "sns.set_theme(context='notebook', style='darkgrid')"
   ]
  },
  {
   "cell_type": "code",
   "execution_count": 270,
   "id": "69e6e4f2",
   "metadata": {},
   "outputs": [
    {
     "name": "stderr",
     "output_type": "stream",
     "text": [
      "C:\\Users\\imran\\anaconda3\\lib\\site-packages\\IPython\\core\\interactiveshell.py:3441: DtypeWarning: Columns (16) have mixed types.Specify dtype option on import or set low_memory=False.\n",
      "  exec(code_obj, self.user_global_ns, self.user_ns)\n"
     ]
    }
   ],
   "source": [
    "loan = pd.read_csv('loan.csv', dtype={'Current Credit Balance': 'int64'})"
   ]
  },
  {
   "cell_type": "code",
   "execution_count": 271,
   "id": "e7cfa77a",
   "metadata": {},
   "outputs": [
    {
     "data": {
      "text/html": [
       "<div>\n",
       "<style scoped>\n",
       "    .dataframe tbody tr th:only-of-type {\n",
       "        vertical-align: middle;\n",
       "    }\n",
       "\n",
       "    .dataframe tbody tr th {\n",
       "        vertical-align: top;\n",
       "    }\n",
       "\n",
       "    .dataframe thead th {\n",
       "        text-align: right;\n",
       "    }\n",
       "</style>\n",
       "<table border=\"1\" class=\"dataframe\">\n",
       "  <thead>\n",
       "    <tr style=\"text-align: right;\">\n",
       "      <th></th>\n",
       "      <th>Loan ID</th>\n",
       "      <th>Customer ID</th>\n",
       "      <th>Loan Status</th>\n",
       "      <th>Current Loan Amount</th>\n",
       "      <th>Term</th>\n",
       "      <th>Credit Score</th>\n",
       "      <th>Years in current job</th>\n",
       "      <th>Home Ownership</th>\n",
       "      <th>Annual Income</th>\n",
       "      <th>Purpose</th>\n",
       "      <th>Monthly Debt</th>\n",
       "      <th>Years of Credit History</th>\n",
       "      <th>Months since last delinquent</th>\n",
       "      <th>Number of Open Accounts</th>\n",
       "      <th>Number of Credit Problems</th>\n",
       "      <th>Current Credit Balance</th>\n",
       "      <th>Maximum Open Credit</th>\n",
       "      <th>Bankruptcies</th>\n",
       "      <th>Tax Liens</th>\n",
       "    </tr>\n",
       "  </thead>\n",
       "  <tbody>\n",
       "    <tr>\n",
       "      <th>0</th>\n",
       "      <td>000025bb-5694-4cff-b17d-192b1a98ba44</td>\n",
       "      <td>5ebc8bb1-5eb9-4404-b11b-a6eebc401a19</td>\n",
       "      <td>Fully Paid</td>\n",
       "      <td>11520</td>\n",
       "      <td>Short Term</td>\n",
       "      <td>741.0</td>\n",
       "      <td>10+ years</td>\n",
       "      <td>Home Mortgage</td>\n",
       "      <td>33694.0</td>\n",
       "      <td>Debt Consolidation</td>\n",
       "      <td>$584.03</td>\n",
       "      <td>12.3</td>\n",
       "      <td>41.0</td>\n",
       "      <td>10</td>\n",
       "      <td>0</td>\n",
       "      <td>6760</td>\n",
       "      <td>16056</td>\n",
       "      <td>0.0</td>\n",
       "      <td>0.0</td>\n",
       "    </tr>\n",
       "    <tr>\n",
       "      <th>1</th>\n",
       "      <td>00002c49-3a29-4bd4-8f67-c8f8fbc1048c</td>\n",
       "      <td>927b388d-2e01-423f-a8dc-f7e42d668f46</td>\n",
       "      <td>Fully Paid</td>\n",
       "      <td>3441</td>\n",
       "      <td>Short Term</td>\n",
       "      <td>734.0</td>\n",
       "      <td>4 years</td>\n",
       "      <td>Home Mortgage</td>\n",
       "      <td>42269.0</td>\n",
       "      <td>other</td>\n",
       "      <td>$1,106.04</td>\n",
       "      <td>26.3</td>\n",
       "      <td>NaN</td>\n",
       "      <td>17</td>\n",
       "      <td>0</td>\n",
       "      <td>6262</td>\n",
       "      <td>19149</td>\n",
       "      <td>0.0</td>\n",
       "      <td>0.0</td>\n",
       "    </tr>\n",
       "    <tr>\n",
       "      <th>2</th>\n",
       "      <td>00002d89-27f3-409b-aa76-90834f359a65</td>\n",
       "      <td>defce609-c631-447d-aad6-1270615e89c4</td>\n",
       "      <td>Fully Paid</td>\n",
       "      <td>21029</td>\n",
       "      <td>Short Term</td>\n",
       "      <td>747.0</td>\n",
       "      <td>10+ years</td>\n",
       "      <td>Home Mortgage</td>\n",
       "      <td>90126.0</td>\n",
       "      <td>Debt Consolidation</td>\n",
       "      <td>$1,321.85</td>\n",
       "      <td>28.8</td>\n",
       "      <td>NaN</td>\n",
       "      <td>5</td>\n",
       "      <td>0</td>\n",
       "      <td>20967</td>\n",
       "      <td>28335</td>\n",
       "      <td>0.0</td>\n",
       "      <td>0.0</td>\n",
       "    </tr>\n",
       "    <tr>\n",
       "      <th>3</th>\n",
       "      <td>00005222-b4d8-45a4-ad8c-186057e24233</td>\n",
       "      <td>070bcecb-aae7-4485-a26a-e0403e7bb6c5</td>\n",
       "      <td>Fully Paid</td>\n",
       "      <td>18743</td>\n",
       "      <td>Short Term</td>\n",
       "      <td>747.0</td>\n",
       "      <td>10+ years</td>\n",
       "      <td>Own Home</td>\n",
       "      <td>38072.0</td>\n",
       "      <td>Debt Consolidation</td>\n",
       "      <td>$751.92</td>\n",
       "      <td>26.2</td>\n",
       "      <td>NaN</td>\n",
       "      <td>9</td>\n",
       "      <td>0</td>\n",
       "      <td>22529</td>\n",
       "      <td>43915</td>\n",
       "      <td>0.0</td>\n",
       "      <td>0.0</td>\n",
       "    </tr>\n",
       "    <tr>\n",
       "      <th>4</th>\n",
       "      <td>0000757f-a121-41ed-b17b-162e76647c1f</td>\n",
       "      <td>dde79588-12f0-4811-bab0-e2b07f633fcd</td>\n",
       "      <td>Fully Paid</td>\n",
       "      <td>11731</td>\n",
       "      <td>Short Term</td>\n",
       "      <td>746.0</td>\n",
       "      <td>4 years</td>\n",
       "      <td>Rent</td>\n",
       "      <td>50025.0</td>\n",
       "      <td>Debt Consolidation</td>\n",
       "      <td>$355.18</td>\n",
       "      <td>11.5</td>\n",
       "      <td>NaN</td>\n",
       "      <td>12</td>\n",
       "      <td>0</td>\n",
       "      <td>17391</td>\n",
       "      <td>37081</td>\n",
       "      <td>0.0</td>\n",
       "      <td>0.0</td>\n",
       "    </tr>\n",
       "  </tbody>\n",
       "</table>\n",
       "</div>"
      ],
      "text/plain": [
       "                                Loan ID                           Customer ID  \\\n",
       "0  000025bb-5694-4cff-b17d-192b1a98ba44  5ebc8bb1-5eb9-4404-b11b-a6eebc401a19   \n",
       "1  00002c49-3a29-4bd4-8f67-c8f8fbc1048c  927b388d-2e01-423f-a8dc-f7e42d668f46   \n",
       "2  00002d89-27f3-409b-aa76-90834f359a65  defce609-c631-447d-aad6-1270615e89c4   \n",
       "3  00005222-b4d8-45a4-ad8c-186057e24233  070bcecb-aae7-4485-a26a-e0403e7bb6c5   \n",
       "4  0000757f-a121-41ed-b17b-162e76647c1f  dde79588-12f0-4811-bab0-e2b07f633fcd   \n",
       "\n",
       "  Loan Status  Current Loan Amount        Term  Credit Score  \\\n",
       "0  Fully Paid                11520  Short Term         741.0   \n",
       "1  Fully Paid                 3441  Short Term         734.0   \n",
       "2  Fully Paid                21029  Short Term         747.0   \n",
       "3  Fully Paid                18743  Short Term         747.0   \n",
       "4  Fully Paid                11731  Short Term         746.0   \n",
       "\n",
       "  Years in current job Home Ownership  Annual Income             Purpose  \\\n",
       "0            10+ years  Home Mortgage        33694.0  Debt Consolidation   \n",
       "1              4 years  Home Mortgage        42269.0               other   \n",
       "2            10+ years  Home Mortgage        90126.0  Debt Consolidation   \n",
       "3            10+ years       Own Home        38072.0  Debt Consolidation   \n",
       "4              4 years           Rent        50025.0  Debt Consolidation   \n",
       "\n",
       "  Monthly Debt  Years of Credit History  Months since last delinquent  \\\n",
       "0      $584.03                     12.3                          41.0   \n",
       "1   $1,106.04                      26.3                           NaN   \n",
       "2   $1,321.85                      28.8                           NaN   \n",
       "3      $751.92                     26.2                           NaN   \n",
       "4      $355.18                     11.5                           NaN   \n",
       "\n",
       "   Number of Open Accounts  Number of Credit Problems  Current Credit Balance  \\\n",
       "0                       10                          0                    6760   \n",
       "1                       17                          0                    6262   \n",
       "2                        5                          0                   20967   \n",
       "3                        9                          0                   22529   \n",
       "4                       12                          0                   17391   \n",
       "\n",
       "  Maximum Open Credit  Bankruptcies  Tax Liens  \n",
       "0               16056           0.0        0.0  \n",
       "1               19149           0.0        0.0  \n",
       "2               28335           0.0        0.0  \n",
       "3               43915           0.0        0.0  \n",
       "4               37081           0.0        0.0  "
      ]
     },
     "execution_count": 271,
     "metadata": {},
     "output_type": "execute_result"
    }
   ],
   "source": [
    "loan.head()"
   ]
  },
  {
   "cell_type": "code",
   "execution_count": 272,
   "id": "21e07324",
   "metadata": {},
   "outputs": [
    {
     "name": "stdout",
     "output_type": "stream",
     "text": [
      "<class 'pandas.core.frame.DataFrame'>\n",
      "RangeIndex: 256984 entries, 0 to 256983\n",
      "Data columns (total 19 columns):\n",
      " #   Column                        Non-Null Count   Dtype  \n",
      "---  ------                        --------------   -----  \n",
      " 0   Loan ID                       256984 non-null  object \n",
      " 1   Customer ID                   256984 non-null  object \n",
      " 2   Loan Status                   256984 non-null  object \n",
      " 3   Current Loan Amount           256984 non-null  int64  \n",
      " 4   Term                          256984 non-null  object \n",
      " 5   Credit Score                  195308 non-null  float64\n",
      " 6   Years in current job          245508 non-null  object \n",
      " 7   Home Ownership                256984 non-null  object \n",
      " 8   Annual Income                 195308 non-null  float64\n",
      " 9   Purpose                       256984 non-null  object \n",
      " 10  Monthly Debt                  256984 non-null  object \n",
      " 11  Years of Credit History       256984 non-null  float64\n",
      " 12  Months since last delinquent  116601 non-null  float64\n",
      " 13  Number of Open Accounts       256984 non-null  int64  \n",
      " 14  Number of Credit Problems     256984 non-null  int64  \n",
      " 15  Current Credit Balance        256984 non-null  int64  \n",
      " 16  Maximum Open Credit           256984 non-null  object \n",
      " 17  Bankruptcies                  256455 non-null  float64\n",
      " 18  Tax Liens                     256961 non-null  float64\n",
      "dtypes: float64(6), int64(4), object(9)\n",
      "memory usage: 37.3+ MB\n"
     ]
    }
   ],
   "source": [
    "loan.info()"
   ]
  },
  {
   "cell_type": "code",
   "execution_count": 273,
   "id": "52ea91bc",
   "metadata": {},
   "outputs": [
    {
     "data": {
      "text/html": [
       "<div>\n",
       "<style scoped>\n",
       "    .dataframe tbody tr th:only-of-type {\n",
       "        vertical-align: middle;\n",
       "    }\n",
       "\n",
       "    .dataframe tbody tr th {\n",
       "        vertical-align: top;\n",
       "    }\n",
       "\n",
       "    .dataframe thead th {\n",
       "        text-align: right;\n",
       "    }\n",
       "</style>\n",
       "<table border=\"1\" class=\"dataframe\">\n",
       "  <thead>\n",
       "    <tr style=\"text-align: right;\">\n",
       "      <th></th>\n",
       "      <th>Current Loan Amount</th>\n",
       "      <th>Credit Score</th>\n",
       "      <th>Annual Income</th>\n",
       "      <th>Years of Credit History</th>\n",
       "      <th>Months since last delinquent</th>\n",
       "      <th>Number of Open Accounts</th>\n",
       "      <th>Number of Credit Problems</th>\n",
       "      <th>Current Credit Balance</th>\n",
       "      <th>Bankruptcies</th>\n",
       "      <th>Tax Liens</th>\n",
       "    </tr>\n",
       "  </thead>\n",
       "  <tbody>\n",
       "    <tr>\n",
       "      <th>count</th>\n",
       "      <td>2.569840e+05</td>\n",
       "      <td>195308.000000</td>\n",
       "      <td>1.953080e+05</td>\n",
       "      <td>256984.000000</td>\n",
       "      <td>116601.000000</td>\n",
       "      <td>256984.000000</td>\n",
       "      <td>256984.000000</td>\n",
       "      <td>2.569840e+05</td>\n",
       "      <td>256455.000000</td>\n",
       "      <td>256961.000000</td>\n",
       "    </tr>\n",
       "    <tr>\n",
       "      <th>mean</th>\n",
       "      <td>1.371331e+07</td>\n",
       "      <td>1251.116099</td>\n",
       "      <td>7.195272e+04</td>\n",
       "      <td>18.290195</td>\n",
       "      <td>34.881450</td>\n",
       "      <td>11.106267</td>\n",
       "      <td>0.156628</td>\n",
       "      <td>1.540656e+04</td>\n",
       "      <td>0.110316</td>\n",
       "      <td>0.027203</td>\n",
       "    </tr>\n",
       "    <tr>\n",
       "      <th>std</th>\n",
       "      <td>3.438131e+07</td>\n",
       "      <td>1762.016848</td>\n",
       "      <td>5.887757e+04</td>\n",
       "      <td>7.075747</td>\n",
       "      <td>21.854165</td>\n",
       "      <td>4.982982</td>\n",
       "      <td>0.460731</td>\n",
       "      <td>1.966506e+04</td>\n",
       "      <td>0.336229</td>\n",
       "      <td>0.245950</td>\n",
       "    </tr>\n",
       "    <tr>\n",
       "      <th>min</th>\n",
       "      <td>5.050000e+02</td>\n",
       "      <td>585.000000</td>\n",
       "      <td>0.000000e+00</td>\n",
       "      <td>3.400000</td>\n",
       "      <td>0.000000</td>\n",
       "      <td>0.000000</td>\n",
       "      <td>0.000000</td>\n",
       "      <td>0.000000e+00</td>\n",
       "      <td>0.000000</td>\n",
       "      <td>0.000000</td>\n",
       "    </tr>\n",
       "    <tr>\n",
       "      <th>25%</th>\n",
       "      <td>8.299000e+03</td>\n",
       "      <td>714.000000</td>\n",
       "      <td>4.432100e+04</td>\n",
       "      <td>13.500000</td>\n",
       "      <td>16.000000</td>\n",
       "      <td>8.000000</td>\n",
       "      <td>0.000000</td>\n",
       "      <td>5.974000e+03</td>\n",
       "      <td>0.000000</td>\n",
       "      <td>0.000000</td>\n",
       "    </tr>\n",
       "    <tr>\n",
       "      <th>50%</th>\n",
       "      <td>1.429800e+04</td>\n",
       "      <td>733.000000</td>\n",
       "      <td>6.124200e+04</td>\n",
       "      <td>17.000000</td>\n",
       "      <td>32.000000</td>\n",
       "      <td>10.000000</td>\n",
       "      <td>0.000000</td>\n",
       "      <td>1.107800e+04</td>\n",
       "      <td>0.000000</td>\n",
       "      <td>0.000000</td>\n",
       "    </tr>\n",
       "    <tr>\n",
       "      <th>75%</th>\n",
       "      <td>2.436700e+04</td>\n",
       "      <td>744.000000</td>\n",
       "      <td>8.646200e+04</td>\n",
       "      <td>21.700000</td>\n",
       "      <td>51.000000</td>\n",
       "      <td>14.000000</td>\n",
       "      <td>0.000000</td>\n",
       "      <td>1.931900e+04</td>\n",
       "      <td>0.000000</td>\n",
       "      <td>0.000000</td>\n",
       "    </tr>\n",
       "    <tr>\n",
       "      <th>max</th>\n",
       "      <td>1.000000e+08</td>\n",
       "      <td>7510.000000</td>\n",
       "      <td>8.713547e+06</td>\n",
       "      <td>70.500000</td>\n",
       "      <td>176.000000</td>\n",
       "      <td>76.000000</td>\n",
       "      <td>11.000000</td>\n",
       "      <td>1.731412e+06</td>\n",
       "      <td>7.000000</td>\n",
       "      <td>11.000000</td>\n",
       "    </tr>\n",
       "  </tbody>\n",
       "</table>\n",
       "</div>"
      ],
      "text/plain": [
       "       Current Loan Amount   Credit Score  Annual Income  \\\n",
       "count         2.569840e+05  195308.000000   1.953080e+05   \n",
       "mean          1.371331e+07    1251.116099   7.195272e+04   \n",
       "std           3.438131e+07    1762.016848   5.887757e+04   \n",
       "min           5.050000e+02     585.000000   0.000000e+00   \n",
       "25%           8.299000e+03     714.000000   4.432100e+04   \n",
       "50%           1.429800e+04     733.000000   6.124200e+04   \n",
       "75%           2.436700e+04     744.000000   8.646200e+04   \n",
       "max           1.000000e+08    7510.000000   8.713547e+06   \n",
       "\n",
       "       Years of Credit History  Months since last delinquent  \\\n",
       "count            256984.000000                 116601.000000   \n",
       "mean                 18.290195                     34.881450   \n",
       "std                   7.075747                     21.854165   \n",
       "min                   3.400000                      0.000000   \n",
       "25%                  13.500000                     16.000000   \n",
       "50%                  17.000000                     32.000000   \n",
       "75%                  21.700000                     51.000000   \n",
       "max                  70.500000                    176.000000   \n",
       "\n",
       "       Number of Open Accounts  Number of Credit Problems  \\\n",
       "count            256984.000000              256984.000000   \n",
       "mean                 11.106267                   0.156628   \n",
       "std                   4.982982                   0.460731   \n",
       "min                   0.000000                   0.000000   \n",
       "25%                   8.000000                   0.000000   \n",
       "50%                  10.000000                   0.000000   \n",
       "75%                  14.000000                   0.000000   \n",
       "max                  76.000000                  11.000000   \n",
       "\n",
       "       Current Credit Balance   Bankruptcies      Tax Liens  \n",
       "count            2.569840e+05  256455.000000  256961.000000  \n",
       "mean             1.540656e+04       0.110316       0.027203  \n",
       "std              1.966506e+04       0.336229       0.245950  \n",
       "min              0.000000e+00       0.000000       0.000000  \n",
       "25%              5.974000e+03       0.000000       0.000000  \n",
       "50%              1.107800e+04       0.000000       0.000000  \n",
       "75%              1.931900e+04       0.000000       0.000000  \n",
       "max              1.731412e+06       7.000000      11.000000  "
      ]
     },
     "execution_count": 273,
     "metadata": {},
     "output_type": "execute_result"
    }
   ],
   "source": [
    "loan.describe()"
   ]
  },
  {
   "cell_type": "markdown",
   "id": "6decce34",
   "metadata": {},
   "source": [
    "## Step 1: Cleaning the Dataframe"
   ]
  },
  {
   "cell_type": "markdown",
   "id": "370be114",
   "metadata": {},
   "source": [
    "### Credit Score: Dealing with missing values"
   ]
  },
  {
   "cell_type": "code",
   "execution_count": 274,
   "id": "92bd9f4e",
   "metadata": {},
   "outputs": [
    {
     "data": {
      "text/plain": [
       "Loan ID                              0\n",
       "Customer ID                          0\n",
       "Loan Status                          0\n",
       "Current Loan Amount                  0\n",
       "Term                                 0\n",
       "Credit Score                     61676\n",
       "Years in current job             11476\n",
       "Home Ownership                       0\n",
       "Annual Income                    61676\n",
       "Purpose                              0\n",
       "Monthly Debt                         0\n",
       "Years of Credit History              0\n",
       "Months since last delinquent    140383\n",
       "Number of Open Accounts              0\n",
       "Number of Credit Problems            0\n",
       "Current Credit Balance               0\n",
       "Maximum Open Credit                  0\n",
       "Bankruptcies                       529\n",
       "Tax Liens                           23\n",
       "dtype: int64"
      ]
     },
     "execution_count": 274,
     "metadata": {},
     "output_type": "execute_result"
    }
   ],
   "source": [
    "loan.isna().sum()"
   ]
  },
  {
   "cell_type": "markdown",
   "id": "d3f42ec5",
   "metadata": {},
   "source": [
    "* Credit score: 61676 missing entries, that's a significant propportion of the data. Dropping the rows is not a good option in this case. We will replace those with the mean credit score."
   ]
  },
  {
   "cell_type": "code",
   "execution_count": 275,
   "id": "92ecf83c",
   "metadata": {},
   "outputs": [],
   "source": [
    "loan['Credit Score'] = loan['Credit Score'].fillna(loan['Credit Score'].mean())\n"
   ]
  },
  {
   "cell_type": "code",
   "execution_count": 276,
   "id": "d61ae6ec",
   "metadata": {},
   "outputs": [
    {
     "data": {
      "text/plain": [
       "0"
      ]
     },
     "execution_count": 276,
     "metadata": {},
     "output_type": "execute_result"
    }
   ],
   "source": [
    "loan['Credit Score'].isna().sum()"
   ]
  },
  {
   "cell_type": "markdown",
   "id": "f9ba0150",
   "metadata": {},
   "source": [
    "### Years in current job\n",
    "\n",
    "* There are 11476 missing entries\n",
    "* We can change it to integer, by dropping the '+ years' part of the entry and any other invalud string"
   ]
  },
  {
   "cell_type": "code",
   "execution_count": 277,
   "id": "1a202175",
   "metadata": {},
   "outputs": [],
   "source": [
    "loan['Years in current job'] = loan['Years in current job'].str.strip(r'+ years').replace('< 1', '1').fillna(0)"
   ]
  },
  {
   "cell_type": "code",
   "execution_count": 278,
   "id": "8e3db051",
   "metadata": {},
   "outputs": [],
   "source": [
    "loan['Years in current job'] = loan['Years in current job'].astype(int)"
   ]
  },
  {
   "cell_type": "code",
   "execution_count": 279,
   "id": "42c8679b",
   "metadata": {},
   "outputs": [
    {
     "data": {
      "text/plain": [
       "count    256984.000000\n",
       "mean          5.689058\n",
       "std           3.632340\n",
       "min           0.000000\n",
       "25%           2.000000\n",
       "50%           6.000000\n",
       "75%          10.000000\n",
       "max          10.000000\n",
       "Name: Years in current job, dtype: float64"
      ]
     },
     "execution_count": 279,
     "metadata": {},
     "output_type": "execute_result"
    }
   ],
   "source": [
    "loan['Years in current job'].describe()"
   ]
  },
  {
   "cell_type": "markdown",
   "id": "0488c4b9",
   "metadata": {},
   "source": [
    "### Annual Income\n",
    "* There are 61676 missing entries, the same number of missing entries as Credit Score. Similaliry, we can fill these with the mean."
   ]
  },
  {
   "cell_type": "code",
   "execution_count": 280,
   "id": "398925b4",
   "metadata": {},
   "outputs": [],
   "source": [
    "loan['Annual Income'] = loan['Annual Income'].fillna(loan['Annual Income'].mean())"
   ]
  },
  {
   "cell_type": "code",
   "execution_count": 281,
   "id": "bf89c66a",
   "metadata": {},
   "outputs": [
    {
     "data": {
      "text/plain": [
       "0"
      ]
     },
     "execution_count": 281,
     "metadata": {},
     "output_type": "execute_result"
    }
   ],
   "source": [
    "loan['Annual Income'].isnull().sum()"
   ]
  },
  {
   "cell_type": "markdown",
   "id": "d10c9cc1",
   "metadata": {},
   "source": [
    "### Months since last delinquent \n",
    "\n",
    "* 140383 nan entries for Months since last delinquent.\n",
    "* Looking at the data, it can be result of not having any late payments, therefore we can replace it with 0."
   ]
  },
  {
   "cell_type": "code",
   "execution_count": 282,
   "id": "4188141d",
   "metadata": {},
   "outputs": [],
   "source": [
    "loan['Months since last delinquent']= loan['Months since last delinquent'].fillna(0)"
   ]
  },
  {
   "cell_type": "code",
   "execution_count": 283,
   "id": "d9c53b8e",
   "metadata": {},
   "outputs": [
    {
     "data": {
      "text/plain": [
       "0"
      ]
     },
     "execution_count": 283,
     "metadata": {},
     "output_type": "execute_result"
    }
   ],
   "source": [
    "loan['Months since last delinquent'].isnull().sum()"
   ]
  },
  {
   "cell_type": "markdown",
   "id": "019c738d",
   "metadata": {},
   "source": [
    "### Bankruptcies\n",
    "\n",
    "* 529 missing entries, we can fill it with 0 as the mean is 0.11"
   ]
  },
  {
   "cell_type": "code",
   "execution_count": 284,
   "id": "2d7c02ff",
   "metadata": {},
   "outputs": [],
   "source": [
    "loan['Bankruptcies'] = loan['Bankruptcies'].fillna(0)"
   ]
  },
  {
   "cell_type": "markdown",
   "id": "e0f3649b",
   "metadata": {},
   "source": [
    "### Tax Liens\n",
    "* Only 29 missing entries, with mean of 0.02, we will fill it with 0"
   ]
  },
  {
   "cell_type": "code",
   "execution_count": 285,
   "id": "10912ec5",
   "metadata": {},
   "outputs": [],
   "source": [
    "loan['Tax Liens'] = loan['Tax Liens'].fillna(0)"
   ]
  },
  {
   "cell_type": "code",
   "execution_count": 286,
   "id": "2def69e6",
   "metadata": {},
   "outputs": [
    {
     "data": {
      "text/plain": [
       "Loan ID                         0\n",
       "Customer ID                     0\n",
       "Loan Status                     0\n",
       "Current Loan Amount             0\n",
       "Term                            0\n",
       "Credit Score                    0\n",
       "Years in current job            0\n",
       "Home Ownership                  0\n",
       "Annual Income                   0\n",
       "Purpose                         0\n",
       "Monthly Debt                    0\n",
       "Years of Credit History         0\n",
       "Months since last delinquent    0\n",
       "Number of Open Accounts         0\n",
       "Number of Credit Problems       0\n",
       "Current Credit Balance          0\n",
       "Maximum Open Credit             0\n",
       "Bankruptcies                    0\n",
       "Tax Liens                       0\n",
       "dtype: int64"
      ]
     },
     "execution_count": 286,
     "metadata": {},
     "output_type": "execute_result"
    }
   ],
   "source": [
    "loan.isna().sum()"
   ]
  },
  {
   "cell_type": "markdown",
   "id": "70da499f",
   "metadata": {},
   "source": [
    "* We have completed filling all the missing entries"
   ]
  },
  {
   "cell_type": "markdown",
   "id": "7bf906de",
   "metadata": {},
   "source": [
    "### Duplicate records\n",
    "\n",
    "* There are 215700 unique records for 'Loan ID' and 'Customer ID', resulting in 41284 duplicate records in the dataset to be removed."
   ]
  },
  {
   "cell_type": "code",
   "execution_count": 287,
   "id": "e21df720",
   "metadata": {},
   "outputs": [
    {
     "data": {
      "text/plain": [
       "215700"
      ]
     },
     "execution_count": 287,
     "metadata": {},
     "output_type": "execute_result"
    }
   ],
   "source": [
    "loan['Loan ID'].nunique()"
   ]
  },
  {
   "cell_type": "code",
   "execution_count": 288,
   "id": "bcc5069e",
   "metadata": {},
   "outputs": [
    {
     "data": {
      "text/plain": [
       "215700"
      ]
     },
     "execution_count": 288,
     "metadata": {},
     "output_type": "execute_result"
    }
   ],
   "source": [
    "loan['Customer ID'].nunique()"
   ]
  },
  {
   "cell_type": "code",
   "execution_count": 289,
   "id": "896783b7",
   "metadata": {},
   "outputs": [],
   "source": [
    "loan.drop_duplicates(subset=['Loan ID', 'Customer ID'], inplace=True)"
   ]
  },
  {
   "cell_type": "code",
   "execution_count": 290,
   "id": "aa609d1d",
   "metadata": {},
   "outputs": [
    {
     "data": {
      "text/plain": [
       "215700"
      ]
     },
     "execution_count": 290,
     "metadata": {},
     "output_type": "execute_result"
    }
   ],
   "source": [
    "loan.value_counts().sum()"
   ]
  },
  {
   "cell_type": "markdown",
   "id": "360527c1",
   "metadata": {},
   "source": [
    "### Correcting dtypes\n",
    "\n",
    "* Monthly Debt column contains '$' signs in the begining of the recods\n",
    "* Maximum Open Credit has #VALUE! as entry"
   ]
  },
  {
   "cell_type": "code",
   "execution_count": 291,
   "id": "7d368b09",
   "metadata": {},
   "outputs": [],
   "source": [
    "loan['Monthly Debt'] = loan['Monthly Debt'].str.strip(r'$')"
   ]
  },
  {
   "cell_type": "code",
   "execution_count": 292,
   "id": "60481cd6",
   "metadata": {},
   "outputs": [
    {
     "data": {
      "text/plain": [
       "'584.03'"
      ]
     },
     "execution_count": 292,
     "metadata": {},
     "output_type": "execute_result"
    }
   ],
   "source": [
    "loan['Monthly Debt'][0]"
   ]
  },
  {
   "cell_type": "code",
   "execution_count": 293,
   "id": "a59df11a",
   "metadata": {},
   "outputs": [],
   "source": [
    "loan['Monthly Debt'] = loan['Monthly Debt'].apply( lambda x:   x.replace(',', ''))"
   ]
  },
  {
   "cell_type": "code",
   "execution_count": 294,
   "id": "f3fe596a",
   "metadata": {},
   "outputs": [],
   "source": [
    "loan['Monthly Debt'] = loan['Monthly Debt'].astype(float)"
   ]
  },
  {
   "cell_type": "markdown",
   "id": "ab8d05d6",
   "metadata": {},
   "source": [
    "#### Correcting Maximum Open Credit"
   ]
  },
  {
   "cell_type": "code",
   "execution_count": 295,
   "id": "5873f300",
   "metadata": {},
   "outputs": [],
   "source": [
    "loan['Maximum Open Credit'] = loan['Maximum Open Credit'].str.strip(r'#VALUE!')"
   ]
  },
  {
   "cell_type": "code",
   "execution_count": 296,
   "id": "476cefbc",
   "metadata": {},
   "outputs": [],
   "source": [
    "loan['Maximum Open Credit'] = loan['Maximum Open Credit'].replace('', 0).astype(float)"
   ]
  },
  {
   "cell_type": "code",
   "execution_count": 297,
   "id": "88f11d1f",
   "metadata": {},
   "outputs": [
    {
     "data": {
      "text/plain": [
       "Loan ID                          object\n",
       "Customer ID                      object\n",
       "Loan Status                      object\n",
       "Current Loan Amount               int64\n",
       "Term                             object\n",
       "Credit Score                    float64\n",
       "Years in current job              int32\n",
       "Home Ownership                   object\n",
       "Annual Income                   float64\n",
       "Purpose                          object\n",
       "Monthly Debt                    float64\n",
       "Years of Credit History         float64\n",
       "Months since last delinquent    float64\n",
       "Number of Open Accounts           int64\n",
       "Number of Credit Problems         int64\n",
       "Current Credit Balance            int64\n",
       "Maximum Open Credit             float64\n",
       "Bankruptcies                    float64\n",
       "Tax Liens                       float64\n",
       "dtype: object"
      ]
     },
     "execution_count": 297,
     "metadata": {},
     "output_type": "execute_result"
    }
   ],
   "source": [
    "loan.dtypes"
   ]
  },
  {
   "cell_type": "markdown",
   "id": "1a9b5532",
   "metadata": {},
   "source": [
    "### Outliers"
   ]
  },
  {
   "cell_type": "code",
   "execution_count": 298,
   "id": "b9be1a5d",
   "metadata": {},
   "outputs": [
    {
     "data": {
      "text/plain": [
       "<AxesSubplot:xlabel='Credit Score'>"
      ]
     },
     "execution_count": 298,
     "metadata": {},
     "output_type": "execute_result"
    },
    {
     "data": {
      "image/png": "[encoded data removed]",
      "text/plain": [
       "<Figure size 432x288 with 1 Axes>"
      ]
     },
     "metadata": {},
     "output_type": "display_data"
    }
   ],
   "source": [
    "sns.boxplot(x=loan['Credit Score'])"
   ]
  },
  {
   "cell_type": "markdown",
   "id": "6499fdd2",
   "metadata": {},
   "source": [
    "* Above plot shows block of entries for credit score around 6000 to 8000, these are outliers as there not included in the box of other observations (near the quartiles)."
   ]
  },
  {
   "cell_type": "code",
   "execution_count": 299,
   "id": "e84070b7",
   "metadata": {},
   "outputs": [
    {
     "data": {
      "text/plain": [
       "(14433, 201267)"
      ]
     },
     "execution_count": 299,
     "metadata": {},
     "output_type": "execute_result"
    }
   ],
   "source": [
    "credit_outlier = loan[loan['Credit Score'] > 5000].count()[0]\n",
    "credit_in = loan[loan['Credit Score'] < 2000].count()[0]\n",
    "credit_outlier, credit_in"
   ]
  },
  {
   "cell_type": "markdown",
   "id": "46df45e8",
   "metadata": {},
   "source": [
    "* There are 14,433 records that have credit score above 5000 and 201, 267 entries below credit score of 2000\n",
    "* There's no credit score entries between 2000 and 5000, indicating that there is an issue here.\n",
    "* One explaination could be that the records are from different credit agencies with different credit scoring range, we will remove the records above 2000 Credit Score."
   ]
  },
  {
   "cell_type": "code",
   "execution_count": 300,
   "id": "e5576885",
   "metadata": {},
   "outputs": [],
   "source": [
    "loan = loan[loan['Credit Score'] < 2000]"
   ]
  },
  {
   "cell_type": "code",
   "execution_count": 301,
   "id": "49d62424",
   "metadata": {},
   "outputs": [
    {
     "data": {
      "text/plain": [
       "(201267, 19)"
      ]
     },
     "execution_count": 301,
     "metadata": {},
     "output_type": "execute_result"
    }
   ],
   "source": [
    "loan.shape"
   ]
  },
  {
   "cell_type": "code",
   "execution_count": 302,
   "id": "398cfc39",
   "metadata": {},
   "outputs": [
    {
     "data": {
      "image/png": "[encoded data removed]",
      "text/plain": [
       "<Figure size 1152x576 with 1 Axes>"
      ]
     },
     "metadata": {},
     "output_type": "display_data"
    }
   ],
   "source": [
    "fig, ax = pp.subplots(figsize=(16,8))\n",
    "ax.scatter(loan['Credit Score'], loan['Annual Income'])\n",
    "ax.set_xlabel('Credit Score')\n",
    "ax.set_ylabel('Annual Income')\n",
    "pp.show()"
   ]
  },
  {
   "cell_type": "markdown",
   "id": "7679274a",
   "metadata": {},
   "source": [
    "## Part 2: Exploratory Data Analysis \n",
    "\n",
    "* Plotting a diagonal correlation matrix"
   ]
  },
  {
   "cell_type": "code",
   "execution_count": 303,
   "id": "d7ba42dd",
   "metadata": {},
   "outputs": [
    {
     "data": {
      "text/plain": [
       "<AxesSubplot:>"
      ]
     },
     "execution_count": 303,
     "metadata": {},
     "output_type": "execute_result"
    },
    {
     "data": {
      "image/png": "[encoded data removed]",
      "text/plain": [
       "<Figure size 792x648 with 2 Axes>"
      ]
     },
     "metadata": {},
     "output_type": "display_data"
    }
   ],
   "source": [
    "corr = loan.corr()\n",
    "mask = np.triu(np.ones_like(corr, dtype=bool))\n",
    "f, ax = pp.subplots(figsize=(11, 9))\n",
    "cmap = sns.diverging_palette(230, 20, as_cmap=True)\n",
    "\n",
    "sns.heatmap(corr, mask=mask, cmap=cmap, vmax = 1, center=0, square=True, linewidths=.5, cbar_kws={'shrink': .5}, annot=True)"
   ]
  },
  {
   "cell_type": "markdown",
   "id": "c54dd0c5",
   "metadata": {},
   "source": [
    "* The correlation map shows the strength of linear relationship between two variables.\n",
    "* Right from the start, you can see there is a positive strong correlation between Bankruptcies and Number of Credit Problems. \n",
    "* There is also strong correlation between Monthly Debt and Current Credit Balance and Number of Open Accounts.\n",
    "* Majority of other variables have no relationship"
   ]
  },
  {
   "cell_type": "code",
   "execution_count": 305,
   "id": "81966840",
   "metadata": {},
   "outputs": [
    {
     "data": {
      "text/plain": [
       "<AxesSubplot:xlabel='Credit Score', ylabel='Count'>"
      ]
     },
     "execution_count": 305,
     "metadata": {},
     "output_type": "execute_result"
    },
    {
     "data": {
      "image/png": "[encoded data removed]",
      "text/plain": [
       "<Figure size 432x288 with 1 Axes>"
      ]
     },
     "metadata": {},
     "output_type": "display_data"
    }
   ],
   "source": [
    "sns.histplot(data=loan, x='Credit Score', hue='Purpose', multiple='stack')"
   ]
  },
  {
   "cell_type": "code",
   "execution_count": 307,
   "id": "2de9b12d",
   "metadata": {
    "scrolled": true
   },
   "outputs": [
    {
     "data": {
      "text/plain": [
       "<AxesSubplot:xlabel='Years in current job', ylabel='Count'>"
      ]
     },
     "execution_count": 307,
     "metadata": {},
     "output_type": "execute_result"
    },
    {
     "data": {
      "image/png": "[encoded data removed]",
      "text/plain": [
       "<Figure size 432x288 with 1 Axes>"
      ]
     },
     "metadata": {},
     "output_type": "display_data"
    }
   ],
   "source": [
    "sns.histplot(data=loan, x='Years in current job', hue='Purpose', multiple='stack')"
   ]
  },
  {
   "cell_type": "code",
   "execution_count": 308,
   "id": "2f4be31e",
   "metadata": {},
   "outputs": [
    {
     "data": {
      "text/plain": [
       "<AxesSubplot:xlabel='Years in current job', ylabel='Density'>"
      ]
     },
     "execution_count": 308,
     "metadata": {},
     "output_type": "execute_result"
    },
    {
     "data": {
      "image/png": "[encoded data removed]",
      "text/plain": [
       "<Figure size 432x288 with 1 Axes>"
      ]
     },
     "metadata": {},
     "output_type": "display_data"
    }
   ],
   "source": [
    "sns.kdeplot(data=loan, x='Years in current job', hue='Purpose', multiple='stack')"
   ]
  },
  {
   "cell_type": "code",
   "execution_count": 243,
   "id": "47d44a02",
   "metadata": {},
   "outputs": [
    {
     "data": {
      "text/html": [
       "<div>\n",
       "<style scoped>\n",
       "    .dataframe tbody tr th:only-of-type {\n",
       "        vertical-align: middle;\n",
       "    }\n",
       "\n",
       "    .dataframe tbody tr th {\n",
       "        vertical-align: top;\n",
       "    }\n",
       "\n",
       "    .dataframe thead th {\n",
       "        text-align: right;\n",
       "    }\n",
       "</style>\n",
       "<table border=\"1\" class=\"dataframe\">\n",
       "  <thead>\n",
       "    <tr style=\"text-align: right;\">\n",
       "      <th></th>\n",
       "      <th>Loan ID</th>\n",
       "      <th>Customer ID</th>\n",
       "      <th>Loan Status</th>\n",
       "      <th>Current Loan Amount</th>\n",
       "      <th>Term</th>\n",
       "      <th>Credit Score</th>\n",
       "      <th>Years in current job</th>\n",
       "      <th>Home Ownership</th>\n",
       "      <th>Annual Income</th>\n",
       "      <th>Purpose</th>\n",
       "      <th>Monthly Debt</th>\n",
       "      <th>Years of Credit History</th>\n",
       "      <th>Months since last delinquent</th>\n",
       "      <th>Number of Open Accounts</th>\n",
       "      <th>Number of Credit Problems</th>\n",
       "      <th>Current Credit Balance</th>\n",
       "      <th>Maximum Open Credit</th>\n",
       "      <th>Bankruptcies</th>\n",
       "      <th>Tax Liens</th>\n",
       "    </tr>\n",
       "  </thead>\n",
       "  <tbody>\n",
       "    <tr>\n",
       "      <th>0</th>\n",
       "      <td>000025bb-5694-4cff-b17d-192b1a98ba44</td>\n",
       "      <td>5ebc8bb1-5eb9-4404-b11b-a6eebc401a19</td>\n",
       "      <td>Fully Paid</td>\n",
       "      <td>11520</td>\n",
       "      <td>Short Term</td>\n",
       "      <td>741.0</td>\n",
       "      <td>10</td>\n",
       "      <td>Home Mortgage</td>\n",
       "      <td>33694.0</td>\n",
       "      <td>Debt Consolidation</td>\n",
       "      <td>584.03</td>\n",
       "      <td>12.3</td>\n",
       "      <td>41.0</td>\n",
       "      <td>10</td>\n",
       "      <td>0</td>\n",
       "      <td>6760</td>\n",
       "      <td>NaN</td>\n",
       "      <td>0.0</td>\n",
       "      <td>0.0</td>\n",
       "    </tr>\n",
       "    <tr>\n",
       "      <th>1</th>\n",
       "      <td>00002c49-3a29-4bd4-8f67-c8f8fbc1048c</td>\n",
       "      <td>927b388d-2e01-423f-a8dc-f7e42d668f46</td>\n",
       "      <td>Fully Paid</td>\n",
       "      <td>3441</td>\n",
       "      <td>Short Term</td>\n",
       "      <td>734.0</td>\n",
       "      <td>4</td>\n",
       "      <td>Home Mortgage</td>\n",
       "      <td>42269.0</td>\n",
       "      <td>other</td>\n",
       "      <td>1106.04</td>\n",
       "      <td>26.3</td>\n",
       "      <td>0.0</td>\n",
       "      <td>17</td>\n",
       "      <td>0</td>\n",
       "      <td>6262</td>\n",
       "      <td>NaN</td>\n",
       "      <td>0.0</td>\n",
       "      <td>0.0</td>\n",
       "    </tr>\n",
       "    <tr>\n",
       "      <th>2</th>\n",
       "      <td>00002d89-27f3-409b-aa76-90834f359a65</td>\n",
       "      <td>defce609-c631-447d-aad6-1270615e89c4</td>\n",
       "      <td>Fully Paid</td>\n",
       "      <td>21029</td>\n",
       "      <td>Short Term</td>\n",
       "      <td>747.0</td>\n",
       "      <td>10</td>\n",
       "      <td>Home Mortgage</td>\n",
       "      <td>90126.0</td>\n",
       "      <td>Debt Consolidation</td>\n",
       "      <td>1321.85</td>\n",
       "      <td>28.8</td>\n",
       "      <td>0.0</td>\n",
       "      <td>5</td>\n",
       "      <td>0</td>\n",
       "      <td>20967</td>\n",
       "      <td>NaN</td>\n",
       "      <td>0.0</td>\n",
       "      <td>0.0</td>\n",
       "    </tr>\n",
       "    <tr>\n",
       "      <th>3</th>\n",
       "      <td>00005222-b4d8-45a4-ad8c-186057e24233</td>\n",
       "      <td>070bcecb-aae7-4485-a26a-e0403e7bb6c5</td>\n",
       "      <td>Fully Paid</td>\n",
       "      <td>18743</td>\n",
       "      <td>Short Term</td>\n",
       "      <td>747.0</td>\n",
       "      <td>10</td>\n",
       "      <td>Own Home</td>\n",
       "      <td>38072.0</td>\n",
       "      <td>Debt Consolidation</td>\n",
       "      <td>751.92</td>\n",
       "      <td>26.2</td>\n",
       "      <td>0.0</td>\n",
       "      <td>9</td>\n",
       "      <td>0</td>\n",
       "      <td>22529</td>\n",
       "      <td>NaN</td>\n",
       "      <td>0.0</td>\n",
       "      <td>0.0</td>\n",
       "    </tr>\n",
       "    <tr>\n",
       "      <th>4</th>\n",
       "      <td>0000757f-a121-41ed-b17b-162e76647c1f</td>\n",
       "      <td>dde79588-12f0-4811-bab0-e2b07f633fcd</td>\n",
       "      <td>Fully Paid</td>\n",
       "      <td>11731</td>\n",
       "      <td>Short Term</td>\n",
       "      <td>746.0</td>\n",
       "      <td>4</td>\n",
       "      <td>Rent</td>\n",
       "      <td>50025.0</td>\n",
       "      <td>Debt Consolidation</td>\n",
       "      <td>355.18</td>\n",
       "      <td>11.5</td>\n",
       "      <td>0.0</td>\n",
       "      <td>12</td>\n",
       "      <td>0</td>\n",
       "      <td>17391</td>\n",
       "      <td>NaN</td>\n",
       "      <td>0.0</td>\n",
       "      <td>0.0</td>\n",
       "    </tr>\n",
       "  </tbody>\n",
       "</table>\n",
       "</div>"
      ],
      "text/plain": [
       "                                Loan ID                           Customer ID  \\\n",
       "0  000025bb-5694-4cff-b17d-192b1a98ba44  5ebc8bb1-5eb9-4404-b11b-a6eebc401a19   \n",
       "1  00002c49-3a29-4bd4-8f67-c8f8fbc1048c  927b388d-2e01-423f-a8dc-f7e42d668f46   \n",
       "2  00002d89-27f3-409b-aa76-90834f359a65  defce609-c631-447d-aad6-1270615e89c4   \n",
       "3  00005222-b4d8-45a4-ad8c-186057e24233  070bcecb-aae7-4485-a26a-e0403e7bb6c5   \n",
       "4  0000757f-a121-41ed-b17b-162e76647c1f  dde79588-12f0-4811-bab0-e2b07f633fcd   \n",
       "\n",
       "  Loan Status  Current Loan Amount        Term  Credit Score  \\\n",
       "0  Fully Paid                11520  Short Term         741.0   \n",
       "1  Fully Paid                 3441  Short Term         734.0   \n",
       "2  Fully Paid                21029  Short Term         747.0   \n",
       "3  Fully Paid                18743  Short Term         747.0   \n",
       "4  Fully Paid                11731  Short Term         746.0   \n",
       "\n",
       "   Years in current job Home Ownership  Annual Income             Purpose  \\\n",
       "0                    10  Home Mortgage        33694.0  Debt Consolidation   \n",
       "1                     4  Home Mortgage        42269.0               other   \n",
       "2                    10  Home Mortgage        90126.0  Debt Consolidation   \n",
       "3                    10       Own Home        38072.0  Debt Consolidation   \n",
       "4                     4           Rent        50025.0  Debt Consolidation   \n",
       "\n",
       "   Monthly Debt  Years of Credit History  Months since last delinquent  \\\n",
       "0        584.03                     12.3                          41.0   \n",
       "1       1106.04                     26.3                           0.0   \n",
       "2       1321.85                     28.8                           0.0   \n",
       "3        751.92                     26.2                           0.0   \n",
       "4        355.18                     11.5                           0.0   \n",
       "\n",
       "   Number of Open Accounts  Number of Credit Problems  Current Credit Balance  \\\n",
       "0                       10                          0                    6760   \n",
       "1                       17                          0                    6262   \n",
       "2                        5                          0                   20967   \n",
       "3                        9                          0                   22529   \n",
       "4                       12                          0                   17391   \n",
       "\n",
       "   Maximum Open Credit  Bankruptcies  Tax Liens  \n",
       "0                  NaN           0.0        0.0  \n",
       "1                  NaN           0.0        0.0  \n",
       "2                  NaN           0.0        0.0  \n",
       "3                  NaN           0.0        0.0  \n",
       "4                  NaN           0.0        0.0  "
      ]
     },
     "execution_count": 243,
     "metadata": {},
     "output_type": "execute_result"
    }
   ],
   "source": [
    "loan.head()"
   ]
  },
  {
   "cell_type": "code",
   "execution_count": null,
   "id": "5e93359a",
   "metadata": {},
   "outputs": [],
   "source": []
  }
 ],
 "metadata": {
  "kernelspec": {
   "display_name": "Python 3 (ipykernel)",
   "language": "python",
   "name": "python3"
  },
  "language_info": {
   "codemirror_mode": {
    "name": "ipython",
    "version": 3
   },
   "file_extension": ".py",
   "mimetype": "text/x-python",
   "name": "python",
   "nbconvert_exporter": "python",
   "pygments_lexer": "ipython3",
   "version": "3.8.3"
  }
 },
 "nbformat": 4,
 "nbformat_minor": 5
}
