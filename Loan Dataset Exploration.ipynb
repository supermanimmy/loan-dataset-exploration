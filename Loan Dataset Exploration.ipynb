{
 "cells": [
  {
   "cell_type": "markdown",
   "id": "a18de3de",
   "metadata": {},
   "source": [
    "# Loan Data Set Exploration"
   ]
  },
  {
   "cell_type": "markdown",
   "id": "3d2344d4",
   "metadata": {},
   "source": [
    "## Importing required libraries"
   ]
  },
  {
   "cell_type": "code",
   "execution_count": 80,
   "id": "6f37c330",
   "metadata": {},
   "outputs": [],
   "source": [
    "import pandas as pd\n",
    "import numpy as np\n",
    "import scipy.stats\n",
    "\n",
    "import matplotlib\n",
    "import matplotlib.pyplot as pp\n",
    "import seaborn as sns\n",
    "\n",
    "from string import ascii_letters\n",
    "import pandas.plotting\n",
    "\n",
    "from IPython import display\n",
    "from ipywidgets import interact, widgets\n",
    "\n",
    "from sklearn.preprocessing import LabelEncoder\n",
    "from sklearn.model_selection import train_test_split\n",
    "from sklearn.ensemble import RandomForestClassifier\n",
    "from sklearn.model_selection import GridSearchCV\n",
    "import joblib\n",
    "\n",
    "%matplotlib inline\n",
    "sns.set_theme(context='notebook', style='darkgrid')"
   ]
  },
  {
   "cell_type": "code",
   "execution_count": 2,
   "id": "69e6e4f2",
   "metadata": {},
   "outputs": [
    {
     "name": "stderr",
     "output_type": "stream",
     "text": [
      "C:\\Users\\imran\\anaconda3\\lib\\site-packages\\IPython\\core\\interactiveshell.py:3441: DtypeWarning: Columns (16) have mixed types.Specify dtype option on import or set low_memory=False.\n",
      "  exec(code_obj, self.user_global_ns, self.user_ns)\n"
     ]
    }
   ],
   "source": [
    "loan = pd.read_csv('loan.csv', dtype={'Current Credit Balance': 'int64'})"
   ]
  },
  {
   "cell_type": "code",
   "execution_count": 3,
   "id": "e7cfa77a",
   "metadata": {},
   "outputs": [
    {
     "data": {
      "text/html": [
       "<div>\n",
       "<style scoped>\n",
       "    .dataframe tbody tr th:only-of-type {\n",
       "        vertical-align: middle;\n",
       "    }\n",
       "\n",
       "    .dataframe tbody tr th {\n",
       "        vertical-align: top;\n",
       "    }\n",
       "\n",
       "    .dataframe thead th {\n",
       "        text-align: right;\n",
       "    }\n",
       "</style>\n",
       "<table border=\"1\" class=\"dataframe\">\n",
       "  <thead>\n",
       "    <tr style=\"text-align: right;\">\n",
       "      <th></th>\n",
       "      <th>Loan ID</th>\n",
       "      <th>Customer ID</th>\n",
       "      <th>Loan Status</th>\n",
       "      <th>Current Loan Amount</th>\n",
       "      <th>Term</th>\n",
       "      <th>Credit Score</th>\n",
       "      <th>Years in current job</th>\n",
       "      <th>Home Ownership</th>\n",
       "      <th>Annual Income</th>\n",
       "      <th>Purpose</th>\n",
       "      <th>Monthly Debt</th>\n",
       "      <th>Years of Credit History</th>\n",
       "      <th>Months since last delinquent</th>\n",
       "      <th>Number of Open Accounts</th>\n",
       "      <th>Number of Credit Problems</th>\n",
       "      <th>Current Credit Balance</th>\n",
       "      <th>Maximum Open Credit</th>\n",
       "      <th>Bankruptcies</th>\n",
       "      <th>Tax Liens</th>\n",
       "    </tr>\n",
       "  </thead>\n",
       "  <tbody>\n",
       "    <tr>\n",
       "      <th>0</th>\n",
       "      <td>000025bb-5694-4cff-b17d-192b1a98ba44</td>\n",
       "      <td>5ebc8bb1-5eb9-4404-b11b-a6eebc401a19</td>\n",
       "      <td>Fully Paid</td>\n",
       "      <td>11520</td>\n",
       "      <td>Short Term</td>\n",
       "      <td>741.0</td>\n",
       "      <td>10+ years</td>\n",
       "      <td>Home Mortgage</td>\n",
       "      <td>33694.0</td>\n",
       "      <td>Debt Consolidation</td>\n",
       "      <td>$584.03</td>\n",
       "      <td>12.3</td>\n",
       "      <td>41.0</td>\n",
       "      <td>10</td>\n",
       "      <td>0</td>\n",
       "      <td>6760</td>\n",
       "      <td>16056</td>\n",
       "      <td>0.0</td>\n",
       "      <td>0.0</td>\n",
       "    </tr>\n",
       "    <tr>\n",
       "      <th>1</th>\n",
       "      <td>00002c49-3a29-4bd4-8f67-c8f8fbc1048c</td>\n",
       "      <td>927b388d-2e01-423f-a8dc-f7e42d668f46</td>\n",
       "      <td>Fully Paid</td>\n",
       "      <td>3441</td>\n",
       "      <td>Short Term</td>\n",
       "      <td>734.0</td>\n",
       "      <td>4 years</td>\n",
       "      <td>Home Mortgage</td>\n",
       "      <td>42269.0</td>\n",
       "      <td>other</td>\n",
       "      <td>$1,106.04</td>\n",
       "      <td>26.3</td>\n",
       "      <td>NaN</td>\n",
       "      <td>17</td>\n",
       "      <td>0</td>\n",
       "      <td>6262</td>\n",
       "      <td>19149</td>\n",
       "      <td>0.0</td>\n",
       "      <td>0.0</td>\n",
       "    </tr>\n",
       "    <tr>\n",
       "      <th>2</th>\n",
       "      <td>00002d89-27f3-409b-aa76-90834f359a65</td>\n",
       "      <td>defce609-c631-447d-aad6-1270615e89c4</td>\n",
       "      <td>Fully Paid</td>\n",
       "      <td>21029</td>\n",
       "      <td>Short Term</td>\n",
       "      <td>747.0</td>\n",
       "      <td>10+ years</td>\n",
       "      <td>Home Mortgage</td>\n",
       "      <td>90126.0</td>\n",
       "      <td>Debt Consolidation</td>\n",
       "      <td>$1,321.85</td>\n",
       "      <td>28.8</td>\n",
       "      <td>NaN</td>\n",
       "      <td>5</td>\n",
       "      <td>0</td>\n",
       "      <td>20967</td>\n",
       "      <td>28335</td>\n",
       "      <td>0.0</td>\n",
       "      <td>0.0</td>\n",
       "    </tr>\n",
       "    <tr>\n",
       "      <th>3</th>\n",
       "      <td>00005222-b4d8-45a4-ad8c-186057e24233</td>\n",
       "      <td>070bcecb-aae7-4485-a26a-e0403e7bb6c5</td>\n",
       "      <td>Fully Paid</td>\n",
       "      <td>18743</td>\n",
       "      <td>Short Term</td>\n",
       "      <td>747.0</td>\n",
       "      <td>10+ years</td>\n",
       "      <td>Own Home</td>\n",
       "      <td>38072.0</td>\n",
       "      <td>Debt Consolidation</td>\n",
       "      <td>$751.92</td>\n",
       "      <td>26.2</td>\n",
       "      <td>NaN</td>\n",
       "      <td>9</td>\n",
       "      <td>0</td>\n",
       "      <td>22529</td>\n",
       "      <td>43915</td>\n",
       "      <td>0.0</td>\n",
       "      <td>0.0</td>\n",
       "    </tr>\n",
       "    <tr>\n",
       "      <th>4</th>\n",
       "      <td>0000757f-a121-41ed-b17b-162e76647c1f</td>\n",
       "      <td>dde79588-12f0-4811-bab0-e2b07f633fcd</td>\n",
       "      <td>Fully Paid</td>\n",
       "      <td>11731</td>\n",
       "      <td>Short Term</td>\n",
       "      <td>746.0</td>\n",
       "      <td>4 years</td>\n",
       "      <td>Rent</td>\n",
       "      <td>50025.0</td>\n",
       "      <td>Debt Consolidation</td>\n",
       "      <td>$355.18</td>\n",
       "      <td>11.5</td>\n",
       "      <td>NaN</td>\n",
       "      <td>12</td>\n",
       "      <td>0</td>\n",
       "      <td>17391</td>\n",
       "      <td>37081</td>\n",
       "      <td>0.0</td>\n",
       "      <td>0.0</td>\n",
       "    </tr>\n",
       "  </tbody>\n",
       "</table>\n",
       "</div>"
      ],
      "text/plain": [
       "                                Loan ID                           Customer ID  \\\n",
       "0  000025bb-5694-4cff-b17d-192b1a98ba44  5ebc8bb1-5eb9-4404-b11b-a6eebc401a19   \n",
       "1  00002c49-3a29-4bd4-8f67-c8f8fbc1048c  927b388d-2e01-423f-a8dc-f7e42d668f46   \n",
       "2  00002d89-27f3-409b-aa76-90834f359a65  defce609-c631-447d-aad6-1270615e89c4   \n",
       "3  00005222-b4d8-45a4-ad8c-186057e24233  070bcecb-aae7-4485-a26a-e0403e7bb6c5   \n",
       "4  0000757f-a121-41ed-b17b-162e76647c1f  dde79588-12f0-4811-bab0-e2b07f633fcd   \n",
       "\n",
       "  Loan Status  Current Loan Amount        Term  Credit Score  \\\n",
       "0  Fully Paid                11520  Short Term         741.0   \n",
       "1  Fully Paid                 3441  Short Term         734.0   \n",
       "2  Fully Paid                21029  Short Term         747.0   \n",
       "3  Fully Paid                18743  Short Term         747.0   \n",
       "4  Fully Paid                11731  Short Term         746.0   \n",
       "\n",
       "  Years in current job Home Ownership  Annual Income             Purpose  \\\n",
       "0            10+ years  Home Mortgage        33694.0  Debt Consolidation   \n",
       "1              4 years  Home Mortgage        42269.0               other   \n",
       "2            10+ years  Home Mortgage        90126.0  Debt Consolidation   \n",
       "3            10+ years       Own Home        38072.0  Debt Consolidation   \n",
       "4              4 years           Rent        50025.0  Debt Consolidation   \n",
       "\n",
       "  Monthly Debt  Years of Credit History  Months since last delinquent  \\\n",
       "0      $584.03                     12.3                          41.0   \n",
       "1   $1,106.04                      26.3                           NaN   \n",
       "2   $1,321.85                      28.8                           NaN   \n",
       "3      $751.92                     26.2                           NaN   \n",
       "4      $355.18                     11.5                           NaN   \n",
       "\n",
       "   Number of Open Accounts  Number of Credit Problems  Current Credit Balance  \\\n",
       "0                       10                          0                    6760   \n",
       "1                       17                          0                    6262   \n",
       "2                        5                          0                   20967   \n",
       "3                        9                          0                   22529   \n",
       "4                       12                          0                   17391   \n",
       "\n",
       "  Maximum Open Credit  Bankruptcies  Tax Liens  \n",
       "0               16056           0.0        0.0  \n",
       "1               19149           0.0        0.0  \n",
       "2               28335           0.0        0.0  \n",
       "3               43915           0.0        0.0  \n",
       "4               37081           0.0        0.0  "
      ]
     },
     "execution_count": 3,
     "metadata": {},
     "output_type": "execute_result"
    }
   ],
   "source": [
    "loan.head()"
   ]
  },
  {
   "cell_type": "code",
   "execution_count": 4,
   "id": "21e07324",
   "metadata": {},
   "outputs": [
    {
     "name": "stdout",
     "output_type": "stream",
     "text": [
      "<class 'pandas.core.frame.DataFrame'>\n",
      "RangeIndex: 256984 entries, 0 to 256983\n",
      "Data columns (total 19 columns):\n",
      " #   Column                        Non-Null Count   Dtype  \n",
      "---  ------                        --------------   -----  \n",
      " 0   Loan ID                       256984 non-null  object \n",
      " 1   Customer ID                   256984 non-null  object \n",
      " 2   Loan Status                   256984 non-null  object \n",
      " 3   Current Loan Amount           256984 non-null  int64  \n",
      " 4   Term                          256984 non-null  object \n",
      " 5   Credit Score                  195308 non-null  float64\n",
      " 6   Years in current job          245508 non-null  object \n",
      " 7   Home Ownership                256984 non-null  object \n",
      " 8   Annual Income                 195308 non-null  float64\n",
      " 9   Purpose                       256984 non-null  object \n",
      " 10  Monthly Debt                  256984 non-null  object \n",
      " 11  Years of Credit History       256984 non-null  float64\n",
      " 12  Months since last delinquent  116601 non-null  float64\n",
      " 13  Number of Open Accounts       256984 non-null  int64  \n",
      " 14  Number of Credit Problems     256984 non-null  int64  \n",
      " 15  Current Credit Balance        256984 non-null  int64  \n",
      " 16  Maximum Open Credit           256984 non-null  object \n",
      " 17  Bankruptcies                  256455 non-null  float64\n",
      " 18  Tax Liens                     256961 non-null  float64\n",
      "dtypes: float64(6), int64(4), object(9)\n",
      "memory usage: 37.3+ MB\n"
     ]
    }
   ],
   "source": [
    "loan.info()"
   ]
  },
  {
   "cell_type": "code",
   "execution_count": 5,
   "id": "52ea91bc",
   "metadata": {},
   "outputs": [
    {
     "data": {
      "text/html": [
       "<div>\n",
       "<style scoped>\n",
       "    .dataframe tbody tr th:only-of-type {\n",
       "        vertical-align: middle;\n",
       "    }\n",
       "\n",
       "    .dataframe tbody tr th {\n",
       "        vertical-align: top;\n",
       "    }\n",
       "\n",
       "    .dataframe thead th {\n",
       "        text-align: right;\n",
       "    }\n",
       "</style>\n",
       "<table border=\"1\" class=\"dataframe\">\n",
       "  <thead>\n",
       "    <tr style=\"text-align: right;\">\n",
       "      <th></th>\n",
       "      <th>Current Loan Amount</th>\n",
       "      <th>Credit Score</th>\n",
       "      <th>Annual Income</th>\n",
       "      <th>Years of Credit History</th>\n",
       "      <th>Months since last delinquent</th>\n",
       "      <th>Number of Open Accounts</th>\n",
       "      <th>Number of Credit Problems</th>\n",
       "      <th>Current Credit Balance</th>\n",
       "      <th>Bankruptcies</th>\n",
       "      <th>Tax Liens</th>\n",
       "    </tr>\n",
       "  </thead>\n",
       "  <tbody>\n",
       "    <tr>\n",
       "      <th>count</th>\n",
       "      <td>2.569840e+05</td>\n",
       "      <td>195308.000000</td>\n",
       "      <td>1.953080e+05</td>\n",
       "      <td>256984.000000</td>\n",
       "      <td>116601.000000</td>\n",
       "      <td>256984.000000</td>\n",
       "      <td>256984.000000</td>\n",
       "      <td>2.569840e+05</td>\n",
       "      <td>256455.000000</td>\n",
       "      <td>256961.000000</td>\n",
       "    </tr>\n",
       "    <tr>\n",
       "      <th>mean</th>\n",
       "      <td>1.371331e+07</td>\n",
       "      <td>1251.116099</td>\n",
       "      <td>7.195272e+04</td>\n",
       "      <td>18.290195</td>\n",
       "      <td>34.881450</td>\n",
       "      <td>11.106267</td>\n",
       "      <td>0.156628</td>\n",
       "      <td>1.540656e+04</td>\n",
       "      <td>0.110316</td>\n",
       "      <td>0.027203</td>\n",
       "    </tr>\n",
       "    <tr>\n",
       "      <th>std</th>\n",
       "      <td>3.438131e+07</td>\n",
       "      <td>1762.016848</td>\n",
       "      <td>5.887757e+04</td>\n",
       "      <td>7.075747</td>\n",
       "      <td>21.854165</td>\n",
       "      <td>4.982982</td>\n",
       "      <td>0.460731</td>\n",
       "      <td>1.966506e+04</td>\n",
       "      <td>0.336229</td>\n",
       "      <td>0.245950</td>\n",
       "    </tr>\n",
       "    <tr>\n",
       "      <th>min</th>\n",
       "      <td>5.050000e+02</td>\n",
       "      <td>585.000000</td>\n",
       "      <td>0.000000e+00</td>\n",
       "      <td>3.400000</td>\n",
       "      <td>0.000000</td>\n",
       "      <td>0.000000</td>\n",
       "      <td>0.000000</td>\n",
       "      <td>0.000000e+00</td>\n",
       "      <td>0.000000</td>\n",
       "      <td>0.000000</td>\n",
       "    </tr>\n",
       "    <tr>\n",
       "      <th>25%</th>\n",
       "      <td>8.299000e+03</td>\n",
       "      <td>714.000000</td>\n",
       "      <td>4.432100e+04</td>\n",
       "      <td>13.500000</td>\n",
       "      <td>16.000000</td>\n",
       "      <td>8.000000</td>\n",
       "      <td>0.000000</td>\n",
       "      <td>5.974000e+03</td>\n",
       "      <td>0.000000</td>\n",
       "      <td>0.000000</td>\n",
       "    </tr>\n",
       "    <tr>\n",
       "      <th>50%</th>\n",
       "      <td>1.429800e+04</td>\n",
       "      <td>733.000000</td>\n",
       "      <td>6.124200e+04</td>\n",
       "      <td>17.000000</td>\n",
       "      <td>32.000000</td>\n",
       "      <td>10.000000</td>\n",
       "      <td>0.000000</td>\n",
       "      <td>1.107800e+04</td>\n",
       "      <td>0.000000</td>\n",
       "      <td>0.000000</td>\n",
       "    </tr>\n",
       "    <tr>\n",
       "      <th>75%</th>\n",
       "      <td>2.436700e+04</td>\n",
       "      <td>744.000000</td>\n",
       "      <td>8.646200e+04</td>\n",
       "      <td>21.700000</td>\n",
       "      <td>51.000000</td>\n",
       "      <td>14.000000</td>\n",
       "      <td>0.000000</td>\n",
       "      <td>1.931900e+04</td>\n",
       "      <td>0.000000</td>\n",
       "      <td>0.000000</td>\n",
       "    </tr>\n",
       "    <tr>\n",
       "      <th>max</th>\n",
       "      <td>1.000000e+08</td>\n",
       "      <td>7510.000000</td>\n",
       "      <td>8.713547e+06</td>\n",
       "      <td>70.500000</td>\n",
       "      <td>176.000000</td>\n",
       "      <td>76.000000</td>\n",
       "      <td>11.000000</td>\n",
       "      <td>1.731412e+06</td>\n",
       "      <td>7.000000</td>\n",
       "      <td>11.000000</td>\n",
       "    </tr>\n",
       "  </tbody>\n",
       "</table>\n",
       "</div>"
      ],
      "text/plain": [
       "       Current Loan Amount   Credit Score  Annual Income  \\\n",
       "count         2.569840e+05  195308.000000   1.953080e+05   \n",
       "mean          1.371331e+07    1251.116099   7.195272e+04   \n",
       "std           3.438131e+07    1762.016848   5.887757e+04   \n",
       "min           5.050000e+02     585.000000   0.000000e+00   \n",
       "25%           8.299000e+03     714.000000   4.432100e+04   \n",
       "50%           1.429800e+04     733.000000   6.124200e+04   \n",
       "75%           2.436700e+04     744.000000   8.646200e+04   \n",
       "max           1.000000e+08    7510.000000   8.713547e+06   \n",
       "\n",
       "       Years of Credit History  Months since last delinquent  \\\n",
       "count            256984.000000                 116601.000000   \n",
       "mean                 18.290195                     34.881450   \n",
       "std                   7.075747                     21.854165   \n",
       "min                   3.400000                      0.000000   \n",
       "25%                  13.500000                     16.000000   \n",
       "50%                  17.000000                     32.000000   \n",
       "75%                  21.700000                     51.000000   \n",
       "max                  70.500000                    176.000000   \n",
       "\n",
       "       Number of Open Accounts  Number of Credit Problems  \\\n",
       "count            256984.000000              256984.000000   \n",
       "mean                 11.106267                   0.156628   \n",
       "std                   4.982982                   0.460731   \n",
       "min                   0.000000                   0.000000   \n",
       "25%                   8.000000                   0.000000   \n",
       "50%                  10.000000                   0.000000   \n",
       "75%                  14.000000                   0.000000   \n",
       "max                  76.000000                  11.000000   \n",
       "\n",
       "       Current Credit Balance   Bankruptcies      Tax Liens  \n",
       "count            2.569840e+05  256455.000000  256961.000000  \n",
       "mean             1.540656e+04       0.110316       0.027203  \n",
       "std              1.966506e+04       0.336229       0.245950  \n",
       "min              0.000000e+00       0.000000       0.000000  \n",
       "25%              5.974000e+03       0.000000       0.000000  \n",
       "50%              1.107800e+04       0.000000       0.000000  \n",
       "75%              1.931900e+04       0.000000       0.000000  \n",
       "max              1.731412e+06       7.000000      11.000000  "
      ]
     },
     "execution_count": 5,
     "metadata": {},
     "output_type": "execute_result"
    }
   ],
   "source": [
    "loan.describe()"
   ]
  },
  {
   "cell_type": "markdown",
   "id": "b436be42",
   "metadata": {},
   "source": [
    "## Step 1: Cleaning the Dataframe"
   ]
  },
  {
   "cell_type": "markdown",
   "id": "f1042f10",
   "metadata": {},
   "source": [
    "### Credit Score: Dealing with missing values"
   ]
  },
  {
   "cell_type": "code",
   "execution_count": 6,
   "id": "3ff4d4dd",
   "metadata": {},
   "outputs": [
    {
     "data": {
      "text/plain": [
       "Loan ID                              0\n",
       "Customer ID                          0\n",
       "Loan Status                          0\n",
       "Current Loan Amount                  0\n",
       "Term                                 0\n",
       "Credit Score                     61676\n",
       "Years in current job             11476\n",
       "Home Ownership                       0\n",
       "Annual Income                    61676\n",
       "Purpose                              0\n",
       "Monthly Debt                         0\n",
       "Years of Credit History              0\n",
       "Months since last delinquent    140383\n",
       "Number of Open Accounts              0\n",
       "Number of Credit Problems            0\n",
       "Current Credit Balance               0\n",
       "Maximum Open Credit                  0\n",
       "Bankruptcies                       529\n",
       "Tax Liens                           23\n",
       "dtype: int64"
      ]
     },
     "execution_count": 6,
     "metadata": {},
     "output_type": "execute_result"
    }
   ],
   "source": [
    "loan.isna().sum()"
   ]
  },
  {
   "cell_type": "markdown",
   "id": "46ff13c2",
   "metadata": {},
   "source": [
    "* Credit score: 61676 missing entries, that's a significant proportion of the data. Dropping the rows is not a good option in this case. We will replace those with the mean credit score."
   ]
  },
  {
   "cell_type": "code",
   "execution_count": 7,
   "id": "faf1f0e0",
   "metadata": {},
   "outputs": [],
   "source": [
    "loan['Credit Score'] = loan['Credit Score'].fillna(loan['Credit Score'].mean())\n"
   ]
  },
  {
   "cell_type": "code",
   "execution_count": 8,
   "id": "3597a3f1",
   "metadata": {},
   "outputs": [
    {
     "data": {
      "text/plain": [
       "0"
      ]
     },
     "execution_count": 8,
     "metadata": {},
     "output_type": "execute_result"
    }
   ],
   "source": [
    "loan['Credit Score'].isna().sum()"
   ]
  },
  {
   "cell_type": "markdown",
   "id": "cd39aff3",
   "metadata": {},
   "source": [
    "### Years in current job\n",
    "\n",
    "* There are 11476 missing entries\n",
    "* We can change it to integer, by dropping the '+ years' part of the entry and any other invalud string"
   ]
  },
  {
   "cell_type": "code",
   "execution_count": 9,
   "id": "69ae8a3e",
   "metadata": {},
   "outputs": [],
   "source": [
    "loan['Years in current job'] = loan['Years in current job'].str.strip(r'+ years').replace('< 1', '1').fillna(0)"
   ]
  },
  {
   "cell_type": "code",
   "execution_count": 10,
   "id": "409102dc",
   "metadata": {},
   "outputs": [],
   "source": [
    "loan['Years in current job'] = loan['Years in current job'].astype(int)"
   ]
  },
  {
   "cell_type": "code",
   "execution_count": 11,
   "id": "a12d915e",
   "metadata": {},
   "outputs": [
    {
     "data": {
      "text/plain": [
       "count    256984.000000\n",
       "mean          5.689058\n",
       "std           3.632340\n",
       "min           0.000000\n",
       "25%           2.000000\n",
       "50%           6.000000\n",
       "75%          10.000000\n",
       "max          10.000000\n",
       "Name: Years in current job, dtype: float64"
      ]
     },
     "execution_count": 11,
     "metadata": {},
     "output_type": "execute_result"
    }
   ],
   "source": [
    "loan['Years in current job'].describe()"
   ]
  },
  {
   "cell_type": "markdown",
   "id": "7e30973b",
   "metadata": {},
   "source": [
    "### Annual Income\n",
    "* There are 61676 missing entries, the same number of missing entries as Credit Score. Similaliry, we can fill these with the mean."
   ]
  },
  {
   "cell_type": "code",
   "execution_count": 12,
   "id": "431f53ac",
   "metadata": {},
   "outputs": [],
   "source": [
    "loan['Annual Income'] = loan['Annual Income'].fillna(loan['Annual Income'].mean())"
   ]
  },
  {
   "cell_type": "code",
   "execution_count": 13,
   "id": "cda46b72",
   "metadata": {},
   "outputs": [
    {
     "data": {
      "text/plain": [
       "0"
      ]
     },
     "execution_count": 13,
     "metadata": {},
     "output_type": "execute_result"
    }
   ],
   "source": [
    "loan['Annual Income'].isnull().sum()"
   ]
  },
  {
   "cell_type": "markdown",
   "id": "e14b2c6b",
   "metadata": {},
   "source": [
    "### Months since last delinquent \n",
    "\n",
    "* 140383 nan entries for Months since last delinquent.\n",
    "* Looking at the data, it can be result of not having any late payments, therefore we can replace it with 0."
   ]
  },
  {
   "cell_type": "code",
   "execution_count": 14,
   "id": "9f4aa21c",
   "metadata": {},
   "outputs": [],
   "source": [
    "loan['Months since last delinquent']= loan['Months since last delinquent'].fillna(0)"
   ]
  },
  {
   "cell_type": "code",
   "execution_count": 15,
   "id": "ba3aa941",
   "metadata": {},
   "outputs": [
    {
     "data": {
      "text/plain": [
       "0"
      ]
     },
     "execution_count": 15,
     "metadata": {},
     "output_type": "execute_result"
    }
   ],
   "source": [
    "loan['Months since last delinquent'].isnull().sum()"
   ]
  },
  {
   "cell_type": "markdown",
   "id": "745f2338",
   "metadata": {},
   "source": [
    "### Bankruptcies\n",
    "\n",
    "* 529 missing entries, we can fill it with 0 as the mean is 0.11"
   ]
  },
  {
   "cell_type": "code",
   "execution_count": 16,
   "id": "52fbf3c0",
   "metadata": {},
   "outputs": [],
   "source": [
    "loan['Bankruptcies'] = loan['Bankruptcies'].fillna(0)"
   ]
  },
  {
   "cell_type": "markdown",
   "id": "876bcd7e",
   "metadata": {},
   "source": [
    "### Tax Liens\n",
    "* Only 29 missing entries, with mean of 0.02, we will fill it with 0"
   ]
  },
  {
   "cell_type": "code",
   "execution_count": 17,
   "id": "830de31d",
   "metadata": {},
   "outputs": [],
   "source": [
    "loan['Tax Liens'] = loan['Tax Liens'].fillna(0)"
   ]
  },
  {
   "cell_type": "code",
   "execution_count": 18,
   "id": "bf398937",
   "metadata": {},
   "outputs": [
    {
     "data": {
      "text/plain": [
       "Loan ID                         0\n",
       "Customer ID                     0\n",
       "Loan Status                     0\n",
       "Current Loan Amount             0\n",
       "Term                            0\n",
       "Credit Score                    0\n",
       "Years in current job            0\n",
       "Home Ownership                  0\n",
       "Annual Income                   0\n",
       "Purpose                         0\n",
       "Monthly Debt                    0\n",
       "Years of Credit History         0\n",
       "Months since last delinquent    0\n",
       "Number of Open Accounts         0\n",
       "Number of Credit Problems       0\n",
       "Current Credit Balance          0\n",
       "Maximum Open Credit             0\n",
       "Bankruptcies                    0\n",
       "Tax Liens                       0\n",
       "dtype: int64"
      ]
     },
     "execution_count": 18,
     "metadata": {},
     "output_type": "execute_result"
    }
   ],
   "source": [
    "loan.isna().sum()"
   ]
  },
  {
   "cell_type": "markdown",
   "id": "03b260a6",
   "metadata": {},
   "source": [
    "* We have completed filling all the missing entries"
   ]
  },
  {
   "cell_type": "markdown",
   "id": "a7767e36",
   "metadata": {},
   "source": [
    "### Duplicate records\n",
    "\n",
    "* There are 215700 unique records for 'Loan ID' and 'Customer ID', resulting in 41284 duplicate records in the dataset to be removed."
   ]
  },
  {
   "cell_type": "code",
   "execution_count": 19,
   "id": "ac59976c",
   "metadata": {},
   "outputs": [
    {
     "data": {
      "text/plain": [
       "215700"
      ]
     },
     "execution_count": 19,
     "metadata": {},
     "output_type": "execute_result"
    }
   ],
   "source": [
    "loan['Loan ID'].nunique()"
   ]
  },
  {
   "cell_type": "code",
   "execution_count": 20,
   "id": "42c2aebe",
   "metadata": {},
   "outputs": [
    {
     "data": {
      "text/plain": [
       "215700"
      ]
     },
     "execution_count": 20,
     "metadata": {},
     "output_type": "execute_result"
    }
   ],
   "source": [
    "loan['Customer ID'].nunique()"
   ]
  },
  {
   "cell_type": "code",
   "execution_count": 21,
   "id": "ea0a73cb",
   "metadata": {},
   "outputs": [],
   "source": [
    "loan.drop_duplicates(subset=['Loan ID', 'Customer ID'], inplace=True)"
   ]
  },
  {
   "cell_type": "code",
   "execution_count": 22,
   "id": "19870cb9",
   "metadata": {},
   "outputs": [
    {
     "data": {
      "text/plain": [
       "215700"
      ]
     },
     "execution_count": 22,
     "metadata": {},
     "output_type": "execute_result"
    }
   ],
   "source": [
    "loan.value_counts().sum()"
   ]
  },
  {
   "cell_type": "markdown",
   "id": "5b7d74e3",
   "metadata": {},
   "source": [
    "### Correcting dtypes\n",
    "\n",
    "* Monthly Debt column contains '$' signs in the begining of the recods\n",
    "* Maximum Open Credit has #VALUE! as entry"
   ]
  },
  {
   "cell_type": "code",
   "execution_count": 23,
   "id": "df1d3a72",
   "metadata": {},
   "outputs": [],
   "source": [
    "loan['Monthly Debt'] = loan['Monthly Debt'].str.strip(r'$')"
   ]
  },
  {
   "cell_type": "code",
   "execution_count": 24,
   "id": "651a9066",
   "metadata": {},
   "outputs": [
    {
     "data": {
      "text/plain": [
       "'584.03'"
      ]
     },
     "execution_count": 24,
     "metadata": {},
     "output_type": "execute_result"
    }
   ],
   "source": [
    "loan['Monthly Debt'][0]"
   ]
  },
  {
   "cell_type": "code",
   "execution_count": 25,
   "id": "47474c19",
   "metadata": {},
   "outputs": [],
   "source": [
    "loan['Monthly Debt'] = loan['Monthly Debt'].apply( lambda x:   x.replace(',', ''))"
   ]
  },
  {
   "cell_type": "code",
   "execution_count": 26,
   "id": "5a5b950b",
   "metadata": {},
   "outputs": [],
   "source": [
    "loan['Monthly Debt'] = loan['Monthly Debt'].astype(float)"
   ]
  },
  {
   "cell_type": "code",
   "execution_count": 27,
   "id": "23612327",
   "metadata": {},
   "outputs": [
    {
     "data": {
      "text/plain": [
       "Loan ID                         0\n",
       "Customer ID                     0\n",
       "Loan Status                     0\n",
       "Current Loan Amount             0\n",
       "Term                            0\n",
       "Credit Score                    0\n",
       "Years in current job            0\n",
       "Home Ownership                  0\n",
       "Annual Income                   0\n",
       "Purpose                         0\n",
       "Monthly Debt                    0\n",
       "Years of Credit History         0\n",
       "Months since last delinquent    0\n",
       "Number of Open Accounts         0\n",
       "Number of Credit Problems       0\n",
       "Current Credit Balance          0\n",
       "Maximum Open Credit             0\n",
       "Bankruptcies                    0\n",
       "Tax Liens                       0\n",
       "dtype: int64"
      ]
     },
     "execution_count": 27,
     "metadata": {},
     "output_type": "execute_result"
    }
   ],
   "source": [
    "loan.isna().sum()"
   ]
  },
  {
   "cell_type": "markdown",
   "id": "d509a765",
   "metadata": {},
   "source": [
    "#### Correcting Maximum Open Credit"
   ]
  },
  {
   "cell_type": "code",
   "execution_count": 28,
   "id": "cd3710ce",
   "metadata": {},
   "outputs": [
    {
     "data": {
      "text/plain": [
       "0        1381\n",
       "0         206\n",
       "15662      15\n",
       "10198      15\n",
       "12202      14\n",
       "         ... \n",
       "53892       1\n",
       "33608       1\n",
       "44508       1\n",
       "28781       1\n",
       "62371       1\n",
       "Name: Maximum Open Credit, Length: 87025, dtype: int64"
      ]
     },
     "execution_count": 28,
     "metadata": {},
     "output_type": "execute_result"
    }
   ],
   "source": [
    "loan['Maximum Open Credit'] .value_counts().sort_values(ascending=False)"
   ]
  },
  {
   "cell_type": "code",
   "execution_count": 29,
   "id": "892bf9c9",
   "metadata": {},
   "outputs": [],
   "source": [
    "loan['Maximum Open Credit']  = loan['Maximum Open Credit'] .replace(to_replace=r'#VALUE!', value=0, regex=True)"
   ]
  },
  {
   "cell_type": "code",
   "execution_count": 30,
   "id": "384716d5",
   "metadata": {},
   "outputs": [],
   "source": [
    "loan['Maximum Open Credit'] = loan['Maximum Open Credit'].astype(float)"
   ]
  },
  {
   "cell_type": "code",
   "execution_count": 31,
   "id": "d7c1e3d2",
   "metadata": {},
   "outputs": [
    {
     "data": {
      "text/plain": [
       "dtype('float64')"
      ]
     },
     "execution_count": 31,
     "metadata": {},
     "output_type": "execute_result"
    }
   ],
   "source": [
    "loan['Maximum Open Credit'].dtypes"
   ]
  },
  {
   "cell_type": "code",
   "execution_count": 32,
   "id": "a10c22f6",
   "metadata": {},
   "outputs": [
    {
     "data": {
      "text/plain": [
       "0.0        1589\n",
       "10198.0      17\n",
       "14803.0      17\n",
       "10501.0      16\n",
       "21517.0      16\n",
       "           ... \n",
       "63112.0       1\n",
       "31311.0       1\n",
       "74939.0       1\n",
       "59305.0       1\n",
       "62371.0       1\n",
       "Name: Maximum Open Credit, Length: 68883, dtype: int64"
      ]
     },
     "execution_count": 32,
     "metadata": {},
     "output_type": "execute_result"
    }
   ],
   "source": [
    "loan['Maximum Open Credit'] .value_counts().sort_values(ascending=False)"
   ]
  },
  {
   "cell_type": "markdown",
   "id": "9eb5b67e",
   "metadata": {},
   "source": [
    "### Correcting purpose entries"
   ]
  },
  {
   "cell_type": "code",
   "execution_count": 33,
   "id": "f9123478",
   "metadata": {},
   "outputs": [
    {
     "data": {
      "text/plain": [
       "Debt Consolidation      0.793213\n",
       "Home Improvements       0.059527\n",
       "other                   0.054363\n",
       "Other                   0.038391\n",
       "Business Loan           0.016741\n",
       "Buy a Car               0.013565\n",
       "Medical Bills           0.011011\n",
       "Take a Trip             0.006083\n",
       "Buy House               0.006064\n",
       "Educational Expenses    0.001043\n",
       "Name: Purpose, dtype: float64"
      ]
     },
     "execution_count": 33,
     "metadata": {},
     "output_type": "execute_result"
    }
   ],
   "source": [
    "loan['Purpose'].value_counts(normalize=True)"
   ]
  },
  {
   "cell_type": "markdown",
   "id": "82ccb7e6",
   "metadata": {},
   "source": [
    "* There are two 'Other' entries for purpose, one with a capital and one without. We will map them into one."
   ]
  },
  {
   "cell_type": "code",
   "execution_count": 34,
   "id": "1afaaaa9",
   "metadata": {},
   "outputs": [],
   "source": [
    "loan['Purpose'] = loan['Purpose'].replace(['Other', 'other'], 'Other Reasons')"
   ]
  },
  {
   "cell_type": "code",
   "execution_count": 35,
   "id": "62b3b5f7",
   "metadata": {},
   "outputs": [
    {
     "data": {
      "text/plain": [
       "Debt Consolidation      0.793213\n",
       "Other Reasons           0.092754\n",
       "Home Improvements       0.059527\n",
       "Business Loan           0.016741\n",
       "Buy a Car               0.013565\n",
       "Medical Bills           0.011011\n",
       "Take a Trip             0.006083\n",
       "Buy House               0.006064\n",
       "Educational Expenses    0.001043\n",
       "Name: Purpose, dtype: float64"
      ]
     },
     "execution_count": 35,
     "metadata": {},
     "output_type": "execute_result"
    }
   ],
   "source": [
    "loan['Purpose'].value_counts(normalize=True)"
   ]
  },
  {
   "cell_type": "markdown",
   "id": "c4500439",
   "metadata": {},
   "source": [
    "### Correcting Home Ownership Entries"
   ]
  },
  {
   "cell_type": "code",
   "execution_count": 36,
   "id": "a12eb31a",
   "metadata": {},
   "outputs": [
    {
     "data": {
      "text/plain": [
       "Home Mortgage    106492\n",
       "Rent              89619\n",
       "Own Home          19094\n",
       "HaveMortgage        495\n",
       "Name: Home Ownership, dtype: int64"
      ]
     },
     "execution_count": 36,
     "metadata": {},
     "output_type": "execute_result"
    }
   ],
   "source": [
    "loan['Home Ownership'].value_counts()"
   ]
  },
  {
   "cell_type": "code",
   "execution_count": 37,
   "id": "bdbaa8db",
   "metadata": {},
   "outputs": [],
   "source": [
    "loan['Home Ownership'] = loan['Home Ownership'].replace('HaveMortgage', 'Home Mortgage')"
   ]
  },
  {
   "cell_type": "code",
   "execution_count": 38,
   "id": "ef4ad2cd",
   "metadata": {},
   "outputs": [
    {
     "data": {
      "text/plain": [
       "Home Mortgage    106987\n",
       "Rent              89619\n",
       "Own Home          19094\n",
       "Name: Home Ownership, dtype: int64"
      ]
     },
     "execution_count": 38,
     "metadata": {},
     "output_type": "execute_result"
    }
   ],
   "source": [
    "loan['Home Ownership'].value_counts()"
   ]
  },
  {
   "cell_type": "markdown",
   "id": "3afd8974",
   "metadata": {},
   "source": [
    "### Outliers"
   ]
  },
  {
   "cell_type": "markdown",
   "id": "c8254451",
   "metadata": {},
   "source": [
    "#### Credit Score"
   ]
  },
  {
   "cell_type": "code",
   "execution_count": 39,
   "id": "862cbb1a",
   "metadata": {},
   "outputs": [
    {
     "data": {
      "text/plain": [
       "<AxesSubplot:xlabel='Credit Score'>"
      ]
     },
     "execution_count": 39,
     "metadata": {},
     "output_type": "execute_result"
    },
    {
     "data": {
      "image/png": "[encoded data removed]",
      "text/plain": [
       "<Figure size 432x288 with 1 Axes>"
      ]
     },
     "metadata": {},
     "output_type": "display_data"
    }
   ],
   "source": [
    "sns.boxplot(x=loan['Credit Score'])"
   ]
  },
  {
   "cell_type": "markdown",
   "id": "c9cc2556",
   "metadata": {},
   "source": [
    "* Above plot shows block of entries for credit score around 6000 to 8000, these are outliers as there not included in the box of other observations (near the quartiles)."
   ]
  },
  {
   "cell_type": "code",
   "execution_count": 40,
   "id": "844c1f75",
   "metadata": {},
   "outputs": [
    {
     "data": {
      "text/plain": [
       "(14433, 201267)"
      ]
     },
     "execution_count": 40,
     "metadata": {},
     "output_type": "execute_result"
    }
   ],
   "source": [
    "credit_outlier = loan[loan['Credit Score'] > 5000].count()[0]\n",
    "credit_in = loan[loan['Credit Score'] < 2000].count()[0]\n",
    "credit_outlier, credit_in"
   ]
  },
  {
   "cell_type": "markdown",
   "id": "619719c5",
   "metadata": {},
   "source": [
    "* There are 14,433 records that have credit score above 5000 and 201, 267 entries below credit score of 2000\n",
    "* There's no credit score entries between 2000 and 5000, indicating that there is an issue here.\n",
    "* One explaination could be that the records are from different credit agencies with different credit scoring range, we will remove the records above 2000 Credit Score."
   ]
  },
  {
   "cell_type": "code",
   "execution_count": 41,
   "id": "5bc9bb94",
   "metadata": {},
   "outputs": [],
   "source": [
    "loan = loan[loan['Credit Score'] < 2000]"
   ]
  },
  {
   "cell_type": "code",
   "execution_count": 42,
   "id": "7896f4e8",
   "metadata": {},
   "outputs": [
    {
     "data": {
      "text/plain": [
       "(201267, 19)"
      ]
     },
     "execution_count": 42,
     "metadata": {},
     "output_type": "execute_result"
    }
   ],
   "source": [
    "loan.shape"
   ]
  },
  {
   "cell_type": "code",
   "execution_count": 43,
   "id": "16a5e8a1",
   "metadata": {},
   "outputs": [
    {
     "data": {
      "image/png": "[encoded data removed]",
      "text/plain": [
       "<Figure size 576x288 with 1 Axes>"
      ]
     },
     "metadata": {},
     "output_type": "display_data"
    }
   ],
   "source": [
    "fig, ax = pp.subplots(figsize=(8,4))\n",
    "ax.scatter(loan['Credit Score'], loan['Annual Income'])\n",
    "ax.set_xlabel('Credit Score')\n",
    "ax.set_ylabel('Annual Income')\n",
    "pp.show()"
   ]
  },
  {
   "cell_type": "markdown",
   "id": "656938c3",
   "metadata": {},
   "source": [
    "* There's still an empty gap between the records in the range of 550-750 and 1200+\n",
    "* Research shows that most credit scores are in the range of 350 and 850"
   ]
  },
  {
   "cell_type": "code",
   "execution_count": 44,
   "id": "3e448846",
   "metadata": {},
   "outputs": [
    {
     "data": {
      "text/plain": [
       "55008"
      ]
     },
     "execution_count": 44,
     "metadata": {},
     "output_type": "execute_result"
    }
   ],
   "source": [
    "loan[loan['Credit Score'] > 850].count()[0]"
   ]
  },
  {
   "cell_type": "code",
   "execution_count": 45,
   "id": "c9acc23e",
   "metadata": {},
   "outputs": [
    {
     "data": {
      "text/plain": [
       "(146259, 19)"
      ]
     },
     "execution_count": 45,
     "metadata": {},
     "output_type": "execute_result"
    }
   ],
   "source": [
    "loan = loan[loan['Credit Score'] <=  850]\n",
    "loan.shape"
   ]
  },
  {
   "cell_type": "code",
   "execution_count": 46,
   "id": "6e86b6eb",
   "metadata": {},
   "outputs": [
    {
     "data": {
      "text/plain": [
       "<AxesSubplot:xlabel='Credit Score'>"
      ]
     },
     "execution_count": 46,
     "metadata": {},
     "output_type": "execute_result"
    },
    {
     "data": {
      "image/png": "[encoded data removed]",
      "text/plain": [
       "<Figure size 432x288 with 1 Axes>"
      ]
     },
     "metadata": {},
     "output_type": "display_data"
    }
   ],
   "source": [
    "sns.boxplot(x=loan['Credit Score'])"
   ]
  },
  {
   "cell_type": "code",
   "execution_count": 47,
   "id": "a9893c36",
   "metadata": {},
   "outputs": [
    {
     "data": {
      "image/png": "[encoded data removed]",
      "text/plain": [
       "<Figure size 576x288 with 1 Axes>"
      ]
     },
     "metadata": {},
     "output_type": "display_data"
    }
   ],
   "source": [
    "fig, ax = pp.subplots(figsize=(8,4))\n",
    "ax.scatter(loan['Credit Score'], loan['Annual Income'])\n",
    "ax.set_xlabel('Credit Score')\n",
    "ax.set_ylabel('Annual Income')\n",
    "pp.show()"
   ]
  },
  {
   "cell_type": "markdown",
   "id": "fb350779",
   "metadata": {},
   "source": [
    "* The box plot and scatter diagram show that the spread of data is more even, with very few outliers now."
   ]
  },
  {
   "cell_type": "markdown",
   "id": "32db2f82",
   "metadata": {},
   "source": [
    "#### Current Loan Amount"
   ]
  },
  {
   "cell_type": "code",
   "execution_count": 48,
   "id": "32f650ac",
   "metadata": {},
   "outputs": [
    {
     "data": {
      "text/plain": [
       "<AxesSubplot:xlabel='Current Loan Amount'>"
      ]
     },
     "execution_count": 48,
     "metadata": {},
     "output_type": "execute_result"
    },
    {
     "data": {
      "image/png": "[encoded data removed]",
      "text/plain": [
       "<Figure size 432x288 with 1 Axes>"
      ]
     },
     "metadata": {},
     "output_type": "display_data"
    }
   ],
   "source": [
    "sns.boxplot(x=loan['Current Loan Amount'])"
   ]
  },
  {
   "cell_type": "code",
   "execution_count": 49,
   "id": "f3732da6",
   "metadata": {},
   "outputs": [
    {
     "data": {
      "text/plain": [
       "99999999    35210\n",
       "39304           1\n",
       "35875           3\n",
       "35872           6\n",
       "35868          14\n",
       "            ...  \n",
       "899             1\n",
       "809             1\n",
       "768             1\n",
       "511             1\n",
       "505             1\n",
       "Name: Current Loan Amount, Length: 24167, dtype: int64"
      ]
     },
     "execution_count": 49,
     "metadata": {},
     "output_type": "execute_result"
    }
   ],
   "source": [
    "loan['Current Loan Amount'].value_counts().sort_index(ascending=False)"
   ]
  },
  {
   "cell_type": "markdown",
   "id": "283ce373",
   "metadata": {},
   "source": [
    "* Clearly there is a problem here, we have over 35210 entries with 99,999,999 (99 million)\n",
    "* Sometimes 9's are used for unknowns or if  there is a floating-point computation problem.\n",
    "* This is a standard artifact of how computers do arithmetic -- convert decimal number to binary (which means most fractions cannot be exactly represented in a finite amount of memory), perform the operation, then convert back to decimal. This is a common and well known feature/bug in computer arithmetic and has been well described for many years"
   ]
  },
  {
   "cell_type": "code",
   "execution_count": 50,
   "id": "587c96f5",
   "metadata": {},
   "outputs": [
    {
     "data": {
      "text/plain": [
       "Fully Paid    35210\n",
       "Name: Loan Status, dtype: int64"
      ]
     },
     "execution_count": 50,
     "metadata": {},
     "output_type": "execute_result"
    }
   ],
   "source": [
    "odd_amount  = loan[loan['Current Loan Amount'] == 99999999]\n",
    "\n",
    "odd_amount['Loan Status'].value_counts()"
   ]
  },
  {
   "cell_type": "markdown",
   "id": "b48b67fe",
   "metadata": {},
   "source": [
    "* All the current loan amounts with 99 million have been fully paid.\n",
    "* As a result, I am going to assume that they are meant to be 0's instead of 99million and replace those values in the dataset."
   ]
  },
  {
   "cell_type": "code",
   "execution_count": 51,
   "id": "87c976b1",
   "metadata": {},
   "outputs": [],
   "source": [
    "loan['Current Loan Amount'] = loan['Current Loan Amount'].replace(99999999, 0)"
   ]
  },
  {
   "cell_type": "code",
   "execution_count": 52,
   "id": "4fc8db68",
   "metadata": {},
   "outputs": [
    {
     "data": {
      "text/plain": [
       "<AxesSubplot:xlabel='Current Loan Amount'>"
      ]
     },
     "execution_count": 52,
     "metadata": {},
     "output_type": "execute_result"
    },
    {
     "data": {
      "image/png": "[encoded data removed]",
      "text/plain": [
       "<Figure size 432x288 with 1 Axes>"
      ]
     },
     "metadata": {},
     "output_type": "display_data"
    }
   ],
   "source": [
    "sns.boxplot(x=loan['Current Loan Amount'])"
   ]
  },
  {
   "cell_type": "code",
   "execution_count": 53,
   "id": "f3f13a82",
   "metadata": {},
   "outputs": [
    {
     "data": {
      "text/plain": [
       "(1, 19)"
      ]
     },
     "execution_count": 53,
     "metadata": {},
     "output_type": "execute_result"
    }
   ],
   "source": [
    "outlier  = loan[loan['Current Loan Amount'] >= 37000]\n",
    "outlier.shape"
   ]
  },
  {
   "cell_type": "markdown",
   "id": "22ed9162",
   "metadata": {},
   "source": [
    "* The boxplot looks much better now, we have a range of values from 0 to 35,000.\n",
    "* Only 19 outliers above the 37,000 range, we can leave them in this case."
   ]
  },
  {
   "cell_type": "markdown",
   "id": "ac2be749",
   "metadata": {},
   "source": [
    "## Part 2: Exploratory Data Analysis \n",
    "\n",
    "* Plotting a diagonal correlation matrix"
   ]
  },
  {
   "cell_type": "code",
   "execution_count": 54,
   "id": "e8626566",
   "metadata": {},
   "outputs": [
    {
     "data": {
      "text/plain": [
       "<AxesSubplot:>"
      ]
     },
     "execution_count": 54,
     "metadata": {},
     "output_type": "execute_result"
    },
    {
     "data": {
      "image/png": "[encoded data removed]",
      "text/plain": [
       "<Figure size 792x648 with 2 Axes>"
      ]
     },
     "metadata": {},
     "output_type": "display_data"
    }
   ],
   "source": [
    "#Matrix correlation\n",
    "corr = loan.corr()\n",
    "mask = np.triu(np.ones_like(corr, dtype=bool))\n",
    "f, ax = pp.subplots(figsize=(11, 9))\n",
    "cmap = sns.diverging_palette(230, 20, as_cmap=True)\n",
    "\n",
    "sns.heatmap(corr, mask=mask, cmap=cmap, vmax = 1, center=0, square=True, linewidths=.5, cbar_kws={'shrink': .5}, annot=True)"
   ]
  },
  {
   "cell_type": "markdown",
   "id": "aa3aa62a",
   "metadata": {},
   "source": [
    "* The correlation map shows the strength of linear relationship between two variables.\n",
    "* Right from the start, you can see there is a positive strong correlation between Bankruptcies and Number of Credit Problems. \n",
    "* There is also strong correlation between Monthly Debt and Current Credit Balance and Number of Open Accounts.\n",
    "* Majority of other variables have no relationship"
   ]
  },
  {
   "cell_type": "markdown",
   "id": "c500b154",
   "metadata": {},
   "source": [
    "### Histogram of Credit Score and Purpose"
   ]
  },
  {
   "cell_type": "code",
   "execution_count": 55,
   "id": "9d779c41",
   "metadata": {},
   "outputs": [
    {
     "data": {
      "image/png": "[encoded data removed]",
      "text/plain": [
       "<Figure size 432x288 with 1 Axes>"
      ]
     },
     "metadata": {},
     "output_type": "display_data"
    }
   ],
   "source": [
    "ax = sns.histplot(data=loan, x='Credit Score', hue='Purpose', multiple='stack')\n",
    "\n",
    "sns.move_legend(\n",
    "    ax, \"lower center\",\n",
    "    bbox_to_anchor=(.5, 1), ncol=3, title=None, frameon=True,\n",
    ")"
   ]
  },
  {
   "cell_type": "markdown",
   "id": "dfab640f",
   "metadata": {},
   "source": [
    "* Majority of the credit scores are in the 725- 750 range, which is in the good to excellent band range of most credit providers\n",
    "* The diagram also shows that the main purpose of the credit loans are debt consolidation\n",
    "* Debt consolidation is a form of debt refinancing that entails taking out one loan to pay off many others. This commonly refers to a personal finance process of individuals addressing high consumer debt, but occasionally it can also refer to a country's fiscal approach to consolidate corporate debt or government debt"
   ]
  },
  {
   "cell_type": "markdown",
   "id": "0e3d03ab",
   "metadata": {},
   "source": [
    "### Years in current job and Purpose"
   ]
  },
  {
   "cell_type": "code",
   "execution_count": 56,
   "id": "da9e57b5",
   "metadata": {
    "scrolled": true
   },
   "outputs": [
    {
     "data": {
      "image/png": "[encoded data removed]",
      "text/plain": [
       "<Figure size 432x288 with 1 Axes>"
      ]
     },
     "metadata": {},
     "output_type": "display_data"
    }
   ],
   "source": [
    "ax = sns.histplot(data=loan, x='Years in current job', hue='Purpose', multiple='stack')\n",
    "sns.move_legend(\n",
    "    ax, \"lower center\",\n",
    "    bbox_to_anchor=(.5, 1), ncol=3, title=None, frameon=True,\n",
    ")"
   ]
  },
  {
   "cell_type": "markdown",
   "id": "f5ea76a6",
   "metadata": {},
   "source": [
    "* Over 40,000 of the records are from those with over 10 years in their current job.\n",
    "* With over 20,000 with a year in their current job\n",
    "* This can indicate that people are more likely to get a loan in their first year of after 10 years in their current role."
   ]
  },
  {
   "cell_type": "markdown",
   "id": "9c2cba0e",
   "metadata": {},
   "source": [
    "### Credit Score and Loan Status"
   ]
  },
  {
   "cell_type": "code",
   "execution_count": 57,
   "id": "b0a02c6d",
   "metadata": {},
   "outputs": [
    {
     "data": {
      "image/png": "[encoded data removed]",
      "text/plain": [
       "<Figure size 432x288 with 1 Axes>"
      ]
     },
     "metadata": {},
     "output_type": "display_data"
    }
   ],
   "source": [
    "ax = sns.ecdfplot(data=loan, x='Credit Score', hue='Loan Status', stat='count', complementary=False, )"
   ]
  },
  {
   "cell_type": "code",
   "execution_count": 58,
   "id": "74dafd2f",
   "metadata": {},
   "outputs": [
    {
     "data": {
      "text/plain": [
       "Fully Paid     0.91606\n",
       "Charged Off    0.08394\n",
       "Name: Loan Status, dtype: float64"
      ]
     },
     "execution_count": 58,
     "metadata": {},
     "output_type": "execute_result"
    }
   ],
   "source": [
    "loan['Loan Status'].value_counts(normalize=True)"
   ]
  },
  {
   "cell_type": "markdown",
   "id": "f4f4984b",
   "metadata": {},
   "source": [
    "* The diagram shows that majority of the loans have been fully paid."
   ]
  },
  {
   "cell_type": "markdown",
   "id": "26191af3",
   "metadata": {},
   "source": [
    "* 91% of loans have been fully paid off, while 8% have been charged off."
   ]
  },
  {
   "cell_type": "markdown",
   "id": "2c87fbac",
   "metadata": {},
   "source": [
    "### Home Ownership"
   ]
  },
  {
   "cell_type": "code",
   "execution_count": 59,
   "id": "5c11445f",
   "metadata": {},
   "outputs": [
    {
     "data": {
      "text/plain": [
       "<seaborn.axisgrid.FacetGrid at 0x2a4d4b5dee0>"
      ]
     },
     "execution_count": 59,
     "metadata": {},
     "output_type": "execute_result"
    },
    {
     "data": {
      "image/png": "[encoded data removed]",
      "text/plain": [
       "<Figure size 648x360 with 3 Axes>"
      ]
     },
     "metadata": {},
     "output_type": "display_data"
    }
   ],
   "source": [
    "g = sns.catplot(data=loan, x= 'Loan Status', y='Monthly Debt', col='Home Ownership', saturation=.5,\n",
    "               kind='bar', ci=None, aspect=.6)\n",
    "g.set_axis_labels(\"\", 'Monthly Debt')\n",
    "g.set_xticklabels([' Fully Paid', 'Chaged off'])\n",
    "g.set_titles(\"{col_name}\")\n",
    "g.set(ylim=(0,1200))\n",
    "g.despine(left=True)"
   ]
  },
  {
   "cell_type": "markdown",
   "id": "ea65144c",
   "metadata": {},
   "source": [
    "* Interesting to see that for each Home Ownership category, customers that were charged off had a slightly higher monthly debt than those that fully paid it. "
   ]
  },
  {
   "cell_type": "code",
   "execution_count": 60,
   "id": "7b63366c",
   "metadata": {
    "scrolled": true
   },
   "outputs": [
    {
     "data": {
      "text/html": [
       "<div>\n",
       "<style scoped>\n",
       "    .dataframe tbody tr th:only-of-type {\n",
       "        vertical-align: middle;\n",
       "    }\n",
       "\n",
       "    .dataframe tbody tr th {\n",
       "        vertical-align: top;\n",
       "    }\n",
       "\n",
       "    .dataframe thead th {\n",
       "        text-align: right;\n",
       "    }\n",
       "</style>\n",
       "<table border=\"1\" class=\"dataframe\">\n",
       "  <thead>\n",
       "    <tr style=\"text-align: right;\">\n",
       "      <th></th>\n",
       "      <th>Loan ID</th>\n",
       "      <th>Customer ID</th>\n",
       "      <th>Loan Status</th>\n",
       "      <th>Current Loan Amount</th>\n",
       "      <th>Term</th>\n",
       "      <th>Credit Score</th>\n",
       "      <th>Years in current job</th>\n",
       "      <th>Home Ownership</th>\n",
       "      <th>Annual Income</th>\n",
       "      <th>Purpose</th>\n",
       "      <th>Monthly Debt</th>\n",
       "      <th>Years of Credit History</th>\n",
       "      <th>Months since last delinquent</th>\n",
       "      <th>Number of Open Accounts</th>\n",
       "      <th>Number of Credit Problems</th>\n",
       "      <th>Current Credit Balance</th>\n",
       "      <th>Maximum Open Credit</th>\n",
       "      <th>Bankruptcies</th>\n",
       "      <th>Tax Liens</th>\n",
       "    </tr>\n",
       "  </thead>\n",
       "  <tbody>\n",
       "    <tr>\n",
       "      <th>0</th>\n",
       "      <td>000025bb-5694-4cff-b17d-192b1a98ba44</td>\n",
       "      <td>5ebc8bb1-5eb9-4404-b11b-a6eebc401a19</td>\n",
       "      <td>Fully Paid</td>\n",
       "      <td>11520</td>\n",
       "      <td>Short Term</td>\n",
       "      <td>741.0</td>\n",
       "      <td>10</td>\n",
       "      <td>Home Mortgage</td>\n",
       "      <td>33694.0</td>\n",
       "      <td>Debt Consolidation</td>\n",
       "      <td>584.03</td>\n",
       "      <td>12.3</td>\n",
       "      <td>41.0</td>\n",
       "      <td>10</td>\n",
       "      <td>0</td>\n",
       "      <td>6760</td>\n",
       "      <td>16056.0</td>\n",
       "      <td>0.0</td>\n",
       "      <td>0.0</td>\n",
       "    </tr>\n",
       "    <tr>\n",
       "      <th>1</th>\n",
       "      <td>00002c49-3a29-4bd4-8f67-c8f8fbc1048c</td>\n",
       "      <td>927b388d-2e01-423f-a8dc-f7e42d668f46</td>\n",
       "      <td>Fully Paid</td>\n",
       "      <td>3441</td>\n",
       "      <td>Short Term</td>\n",
       "      <td>734.0</td>\n",
       "      <td>4</td>\n",
       "      <td>Home Mortgage</td>\n",
       "      <td>42269.0</td>\n",
       "      <td>Other Reasons</td>\n",
       "      <td>1106.04</td>\n",
       "      <td>26.3</td>\n",
       "      <td>0.0</td>\n",
       "      <td>17</td>\n",
       "      <td>0</td>\n",
       "      <td>6262</td>\n",
       "      <td>19149.0</td>\n",
       "      <td>0.0</td>\n",
       "      <td>0.0</td>\n",
       "    </tr>\n",
       "    <tr>\n",
       "      <th>2</th>\n",
       "      <td>00002d89-27f3-409b-aa76-90834f359a65</td>\n",
       "      <td>defce609-c631-447d-aad6-1270615e89c4</td>\n",
       "      <td>Fully Paid</td>\n",
       "      <td>21029</td>\n",
       "      <td>Short Term</td>\n",
       "      <td>747.0</td>\n",
       "      <td>10</td>\n",
       "      <td>Home Mortgage</td>\n",
       "      <td>90126.0</td>\n",
       "      <td>Debt Consolidation</td>\n",
       "      <td>1321.85</td>\n",
       "      <td>28.8</td>\n",
       "      <td>0.0</td>\n",
       "      <td>5</td>\n",
       "      <td>0</td>\n",
       "      <td>20967</td>\n",
       "      <td>28335.0</td>\n",
       "      <td>0.0</td>\n",
       "      <td>0.0</td>\n",
       "    </tr>\n",
       "    <tr>\n",
       "      <th>3</th>\n",
       "      <td>00005222-b4d8-45a4-ad8c-186057e24233</td>\n",
       "      <td>070bcecb-aae7-4485-a26a-e0403e7bb6c5</td>\n",
       "      <td>Fully Paid</td>\n",
       "      <td>18743</td>\n",
       "      <td>Short Term</td>\n",
       "      <td>747.0</td>\n",
       "      <td>10</td>\n",
       "      <td>Own Home</td>\n",
       "      <td>38072.0</td>\n",
       "      <td>Debt Consolidation</td>\n",
       "      <td>751.92</td>\n",
       "      <td>26.2</td>\n",
       "      <td>0.0</td>\n",
       "      <td>9</td>\n",
       "      <td>0</td>\n",
       "      <td>22529</td>\n",
       "      <td>43915.0</td>\n",
       "      <td>0.0</td>\n",
       "      <td>0.0</td>\n",
       "    </tr>\n",
       "    <tr>\n",
       "      <th>4</th>\n",
       "      <td>0000757f-a121-41ed-b17b-162e76647c1f</td>\n",
       "      <td>dde79588-12f0-4811-bab0-e2b07f633fcd</td>\n",
       "      <td>Fully Paid</td>\n",
       "      <td>11731</td>\n",
       "      <td>Short Term</td>\n",
       "      <td>746.0</td>\n",
       "      <td>4</td>\n",
       "      <td>Rent</td>\n",
       "      <td>50025.0</td>\n",
       "      <td>Debt Consolidation</td>\n",
       "      <td>355.18</td>\n",
       "      <td>11.5</td>\n",
       "      <td>0.0</td>\n",
       "      <td>12</td>\n",
       "      <td>0</td>\n",
       "      <td>17391</td>\n",
       "      <td>37081.0</td>\n",
       "      <td>0.0</td>\n",
       "      <td>0.0</td>\n",
       "    </tr>\n",
       "  </tbody>\n",
       "</table>\n",
       "</div>"
      ],
      "text/plain": [
       "                                Loan ID                           Customer ID  \\\n",
       "0  000025bb-5694-4cff-b17d-192b1a98ba44  5ebc8bb1-5eb9-4404-b11b-a6eebc401a19   \n",
       "1  00002c49-3a29-4bd4-8f67-c8f8fbc1048c  927b388d-2e01-423f-a8dc-f7e42d668f46   \n",
       "2  00002d89-27f3-409b-aa76-90834f359a65  defce609-c631-447d-aad6-1270615e89c4   \n",
       "3  00005222-b4d8-45a4-ad8c-186057e24233  070bcecb-aae7-4485-a26a-e0403e7bb6c5   \n",
       "4  0000757f-a121-41ed-b17b-162e76647c1f  dde79588-12f0-4811-bab0-e2b07f633fcd   \n",
       "\n",
       "  Loan Status  Current Loan Amount        Term  Credit Score  \\\n",
       "0  Fully Paid                11520  Short Term         741.0   \n",
       "1  Fully Paid                 3441  Short Term         734.0   \n",
       "2  Fully Paid                21029  Short Term         747.0   \n",
       "3  Fully Paid                18743  Short Term         747.0   \n",
       "4  Fully Paid                11731  Short Term         746.0   \n",
       "\n",
       "   Years in current job Home Ownership  Annual Income             Purpose  \\\n",
       "0                    10  Home Mortgage        33694.0  Debt Consolidation   \n",
       "1                     4  Home Mortgage        42269.0       Other Reasons   \n",
       "2                    10  Home Mortgage        90126.0  Debt Consolidation   \n",
       "3                    10       Own Home        38072.0  Debt Consolidation   \n",
       "4                     4           Rent        50025.0  Debt Consolidation   \n",
       "\n",
       "   Monthly Debt  Years of Credit History  Months since last delinquent  \\\n",
       "0        584.03                     12.3                          41.0   \n",
       "1       1106.04                     26.3                           0.0   \n",
       "2       1321.85                     28.8                           0.0   \n",
       "3        751.92                     26.2                           0.0   \n",
       "4        355.18                     11.5                           0.0   \n",
       "\n",
       "   Number of Open Accounts  Number of Credit Problems  Current Credit Balance  \\\n",
       "0                       10                          0                    6760   \n",
       "1                       17                          0                    6262   \n",
       "2                        5                          0                   20967   \n",
       "3                        9                          0                   22529   \n",
       "4                       12                          0                   17391   \n",
       "\n",
       "   Maximum Open Credit  Bankruptcies  Tax Liens  \n",
       "0              16056.0           0.0        0.0  \n",
       "1              19149.0           0.0        0.0  \n",
       "2              28335.0           0.0        0.0  \n",
       "3              43915.0           0.0        0.0  \n",
       "4              37081.0           0.0        0.0  "
      ]
     },
     "execution_count": 60,
     "metadata": {},
     "output_type": "execute_result"
    }
   ],
   "source": [
    "loan.head()"
   ]
  },
  {
   "cell_type": "code",
   "execution_count": 61,
   "id": "28e3c9cd",
   "metadata": {},
   "outputs": [
    {
     "data": {
      "text/plain": [
       "Short Term    115377\n",
       "Long Term      30882\n",
       "Name: Term, dtype: int64"
      ]
     },
     "execution_count": 61,
     "metadata": {},
     "output_type": "execute_result"
    }
   ],
   "source": [
    "loan.Term.value_counts()"
   ]
  },
  {
   "cell_type": "markdown",
   "id": "882ecd59",
   "metadata": {},
   "source": [
    "## Part 3: Cleaning and Creating Features"
   ]
  },
  {
   "cell_type": "markdown",
   "id": "b7669300",
   "metadata": {},
   "source": [
    "### Converting categorical data to numeric"
   ]
  },
  {
   "cell_type": "code",
   "execution_count": 62,
   "id": "8c9eea23",
   "metadata": {},
   "outputs": [],
   "source": [
    "for feature in ['Loan Status', 'Term', 'Home Ownership', 'Purpose']:\n",
    "    le = LabelEncoder()\n",
    "    loan[feature] = le.fit_transform(loan[feature].astype(str))\n"
   ]
  },
  {
   "cell_type": "code",
   "execution_count": 63,
   "id": "6e0a2f43",
   "metadata": {},
   "outputs": [
    {
     "data": {
      "text/html": [
       "<div>\n",
       "<style scoped>\n",
       "    .dataframe tbody tr th:only-of-type {\n",
       "        vertical-align: middle;\n",
       "    }\n",
       "\n",
       "    .dataframe tbody tr th {\n",
       "        vertical-align: top;\n",
       "    }\n",
       "\n",
       "    .dataframe thead th {\n",
       "        text-align: right;\n",
       "    }\n",
       "</style>\n",
       "<table border=\"1\" class=\"dataframe\">\n",
       "  <thead>\n",
       "    <tr style=\"text-align: right;\">\n",
       "      <th></th>\n",
       "      <th>Loan ID</th>\n",
       "      <th>Customer ID</th>\n",
       "      <th>Loan Status</th>\n",
       "      <th>Current Loan Amount</th>\n",
       "      <th>Term</th>\n",
       "      <th>Credit Score</th>\n",
       "      <th>Years in current job</th>\n",
       "      <th>Home Ownership</th>\n",
       "      <th>Annual Income</th>\n",
       "      <th>Purpose</th>\n",
       "      <th>Monthly Debt</th>\n",
       "      <th>Years of Credit History</th>\n",
       "      <th>Months since last delinquent</th>\n",
       "      <th>Number of Open Accounts</th>\n",
       "      <th>Number of Credit Problems</th>\n",
       "      <th>Current Credit Balance</th>\n",
       "      <th>Maximum Open Credit</th>\n",
       "      <th>Bankruptcies</th>\n",
       "      <th>Tax Liens</th>\n",
       "    </tr>\n",
       "  </thead>\n",
       "  <tbody>\n",
       "    <tr>\n",
       "      <th>0</th>\n",
       "      <td>000025bb-5694-4cff-b17d-192b1a98ba44</td>\n",
       "      <td>5ebc8bb1-5eb9-4404-b11b-a6eebc401a19</td>\n",
       "      <td>1</td>\n",
       "      <td>11520</td>\n",
       "      <td>1</td>\n",
       "      <td>741.0</td>\n",
       "      <td>10</td>\n",
       "      <td>0</td>\n",
       "      <td>33694.0</td>\n",
       "      <td>3</td>\n",
       "      <td>584.03</td>\n",
       "      <td>12.3</td>\n",
       "      <td>41.0</td>\n",
       "      <td>10</td>\n",
       "      <td>0</td>\n",
       "      <td>6760</td>\n",
       "      <td>16056.0</td>\n",
       "      <td>0.0</td>\n",
       "      <td>0.0</td>\n",
       "    </tr>\n",
       "    <tr>\n",
       "      <th>1</th>\n",
       "      <td>00002c49-3a29-4bd4-8f67-c8f8fbc1048c</td>\n",
       "      <td>927b388d-2e01-423f-a8dc-f7e42d668f46</td>\n",
       "      <td>1</td>\n",
       "      <td>3441</td>\n",
       "      <td>1</td>\n",
       "      <td>734.0</td>\n",
       "      <td>4</td>\n",
       "      <td>0</td>\n",
       "      <td>42269.0</td>\n",
       "      <td>7</td>\n",
       "      <td>1106.04</td>\n",
       "      <td>26.3</td>\n",
       "      <td>0.0</td>\n",
       "      <td>17</td>\n",
       "      <td>0</td>\n",
       "      <td>6262</td>\n",
       "      <td>19149.0</td>\n",
       "      <td>0.0</td>\n",
       "      <td>0.0</td>\n",
       "    </tr>\n",
       "    <tr>\n",
       "      <th>2</th>\n",
       "      <td>00002d89-27f3-409b-aa76-90834f359a65</td>\n",
       "      <td>defce609-c631-447d-aad6-1270615e89c4</td>\n",
       "      <td>1</td>\n",
       "      <td>21029</td>\n",
       "      <td>1</td>\n",
       "      <td>747.0</td>\n",
       "      <td>10</td>\n",
       "      <td>0</td>\n",
       "      <td>90126.0</td>\n",
       "      <td>3</td>\n",
       "      <td>1321.85</td>\n",
       "      <td>28.8</td>\n",
       "      <td>0.0</td>\n",
       "      <td>5</td>\n",
       "      <td>0</td>\n",
       "      <td>20967</td>\n",
       "      <td>28335.0</td>\n",
       "      <td>0.0</td>\n",
       "      <td>0.0</td>\n",
       "    </tr>\n",
       "    <tr>\n",
       "      <th>3</th>\n",
       "      <td>00005222-b4d8-45a4-ad8c-186057e24233</td>\n",
       "      <td>070bcecb-aae7-4485-a26a-e0403e7bb6c5</td>\n",
       "      <td>1</td>\n",
       "      <td>18743</td>\n",
       "      <td>1</td>\n",
       "      <td>747.0</td>\n",
       "      <td>10</td>\n",
       "      <td>1</td>\n",
       "      <td>38072.0</td>\n",
       "      <td>3</td>\n",
       "      <td>751.92</td>\n",
       "      <td>26.2</td>\n",
       "      <td>0.0</td>\n",
       "      <td>9</td>\n",
       "      <td>0</td>\n",
       "      <td>22529</td>\n",
       "      <td>43915.0</td>\n",
       "      <td>0.0</td>\n",
       "      <td>0.0</td>\n",
       "    </tr>\n",
       "    <tr>\n",
       "      <th>4</th>\n",
       "      <td>0000757f-a121-41ed-b17b-162e76647c1f</td>\n",
       "      <td>dde79588-12f0-4811-bab0-e2b07f633fcd</td>\n",
       "      <td>1</td>\n",
       "      <td>11731</td>\n",
       "      <td>1</td>\n",
       "      <td>746.0</td>\n",
       "      <td>4</td>\n",
       "      <td>2</td>\n",
       "      <td>50025.0</td>\n",
       "      <td>3</td>\n",
       "      <td>355.18</td>\n",
       "      <td>11.5</td>\n",
       "      <td>0.0</td>\n",
       "      <td>12</td>\n",
       "      <td>0</td>\n",
       "      <td>17391</td>\n",
       "      <td>37081.0</td>\n",
       "      <td>0.0</td>\n",
       "      <td>0.0</td>\n",
       "    </tr>\n",
       "  </tbody>\n",
       "</table>\n",
       "</div>"
      ],
      "text/plain": [
       "                                Loan ID                           Customer ID  \\\n",
       "0  000025bb-5694-4cff-b17d-192b1a98ba44  5ebc8bb1-5eb9-4404-b11b-a6eebc401a19   \n",
       "1  00002c49-3a29-4bd4-8f67-c8f8fbc1048c  927b388d-2e01-423f-a8dc-f7e42d668f46   \n",
       "2  00002d89-27f3-409b-aa76-90834f359a65  defce609-c631-447d-aad6-1270615e89c4   \n",
       "3  00005222-b4d8-45a4-ad8c-186057e24233  070bcecb-aae7-4485-a26a-e0403e7bb6c5   \n",
       "4  0000757f-a121-41ed-b17b-162e76647c1f  dde79588-12f0-4811-bab0-e2b07f633fcd   \n",
       "\n",
       "   Loan Status  Current Loan Amount  Term  Credit Score  Years in current job  \\\n",
       "0            1                11520     1         741.0                    10   \n",
       "1            1                 3441     1         734.0                     4   \n",
       "2            1                21029     1         747.0                    10   \n",
       "3            1                18743     1         747.0                    10   \n",
       "4            1                11731     1         746.0                     4   \n",
       "\n",
       "   Home Ownership  Annual Income  Purpose  Monthly Debt  \\\n",
       "0               0        33694.0        3        584.03   \n",
       "1               0        42269.0        7       1106.04   \n",
       "2               0        90126.0        3       1321.85   \n",
       "3               1        38072.0        3        751.92   \n",
       "4               2        50025.0        3        355.18   \n",
       "\n",
       "   Years of Credit History  Months since last delinquent  \\\n",
       "0                     12.3                          41.0   \n",
       "1                     26.3                           0.0   \n",
       "2                     28.8                           0.0   \n",
       "3                     26.2                           0.0   \n",
       "4                     11.5                           0.0   \n",
       "\n",
       "   Number of Open Accounts  Number of Credit Problems  Current Credit Balance  \\\n",
       "0                       10                          0                    6760   \n",
       "1                       17                          0                    6262   \n",
       "2                        5                          0                   20967   \n",
       "3                        9                          0                   22529   \n",
       "4                       12                          0                   17391   \n",
       "\n",
       "   Maximum Open Credit  Bankruptcies  Tax Liens  \n",
       "0              16056.0           0.0        0.0  \n",
       "1              19149.0           0.0        0.0  \n",
       "2              28335.0           0.0        0.0  \n",
       "3              43915.0           0.0        0.0  \n",
       "4              37081.0           0.0        0.0  "
      ]
     },
     "execution_count": 63,
     "metadata": {},
     "output_type": "execute_result"
    }
   ],
   "source": [
    "loan.head()"
   ]
  },
  {
   "cell_type": "markdown",
   "id": "f8e2f990",
   "metadata": {},
   "source": [
    "## Part 4: Split the data into Train, Validate and Test"
   ]
  },
  {
   "cell_type": "code",
   "execution_count": 64,
   "id": "a3c26f35",
   "metadata": {},
   "outputs": [
    {
     "data": {
      "text/html": [
       "<div>\n",
       "<style scoped>\n",
       "    .dataframe tbody tr th:only-of-type {\n",
       "        vertical-align: middle;\n",
       "    }\n",
       "\n",
       "    .dataframe tbody tr th {\n",
       "        vertical-align: top;\n",
       "    }\n",
       "\n",
       "    .dataframe thead th {\n",
       "        text-align: right;\n",
       "    }\n",
       "</style>\n",
       "<table border=\"1\" class=\"dataframe\">\n",
       "  <thead>\n",
       "    <tr style=\"text-align: right;\">\n",
       "      <th></th>\n",
       "      <th>Loan Status</th>\n",
       "      <th>Current Loan Amount</th>\n",
       "      <th>Term</th>\n",
       "      <th>Credit Score</th>\n",
       "      <th>Years in current job</th>\n",
       "      <th>Home Ownership</th>\n",
       "      <th>Annual Income</th>\n",
       "      <th>Purpose</th>\n",
       "      <th>Monthly Debt</th>\n",
       "      <th>Years of Credit History</th>\n",
       "      <th>Months since last delinquent</th>\n",
       "      <th>Number of Open Accounts</th>\n",
       "      <th>Number of Credit Problems</th>\n",
       "      <th>Current Credit Balance</th>\n",
       "      <th>Maximum Open Credit</th>\n",
       "      <th>Bankruptcies</th>\n",
       "      <th>Tax Liens</th>\n",
       "    </tr>\n",
       "  </thead>\n",
       "  <tbody>\n",
       "    <tr>\n",
       "      <th>0</th>\n",
       "      <td>1</td>\n",
       "      <td>11520</td>\n",
       "      <td>1</td>\n",
       "      <td>741.0</td>\n",
       "      <td>10</td>\n",
       "      <td>0</td>\n",
       "      <td>33694.0</td>\n",
       "      <td>3</td>\n",
       "      <td>584.03</td>\n",
       "      <td>12.3</td>\n",
       "      <td>41.0</td>\n",
       "      <td>10</td>\n",
       "      <td>0</td>\n",
       "      <td>6760</td>\n",
       "      <td>16056.0</td>\n",
       "      <td>0.0</td>\n",
       "      <td>0.0</td>\n",
       "    </tr>\n",
       "    <tr>\n",
       "      <th>1</th>\n",
       "      <td>1</td>\n",
       "      <td>3441</td>\n",
       "      <td>1</td>\n",
       "      <td>734.0</td>\n",
       "      <td>4</td>\n",
       "      <td>0</td>\n",
       "      <td>42269.0</td>\n",
       "      <td>7</td>\n",
       "      <td>1106.04</td>\n",
       "      <td>26.3</td>\n",
       "      <td>0.0</td>\n",
       "      <td>17</td>\n",
       "      <td>0</td>\n",
       "      <td>6262</td>\n",
       "      <td>19149.0</td>\n",
       "      <td>0.0</td>\n",
       "      <td>0.0</td>\n",
       "    </tr>\n",
       "    <tr>\n",
       "      <th>2</th>\n",
       "      <td>1</td>\n",
       "      <td>21029</td>\n",
       "      <td>1</td>\n",
       "      <td>747.0</td>\n",
       "      <td>10</td>\n",
       "      <td>0</td>\n",
       "      <td>90126.0</td>\n",
       "      <td>3</td>\n",
       "      <td>1321.85</td>\n",
       "      <td>28.8</td>\n",
       "      <td>0.0</td>\n",
       "      <td>5</td>\n",
       "      <td>0</td>\n",
       "      <td>20967</td>\n",
       "      <td>28335.0</td>\n",
       "      <td>0.0</td>\n",
       "      <td>0.0</td>\n",
       "    </tr>\n",
       "    <tr>\n",
       "      <th>3</th>\n",
       "      <td>1</td>\n",
       "      <td>18743</td>\n",
       "      <td>1</td>\n",
       "      <td>747.0</td>\n",
       "      <td>10</td>\n",
       "      <td>1</td>\n",
       "      <td>38072.0</td>\n",
       "      <td>3</td>\n",
       "      <td>751.92</td>\n",
       "      <td>26.2</td>\n",
       "      <td>0.0</td>\n",
       "      <td>9</td>\n",
       "      <td>0</td>\n",
       "      <td>22529</td>\n",
       "      <td>43915.0</td>\n",
       "      <td>0.0</td>\n",
       "      <td>0.0</td>\n",
       "    </tr>\n",
       "    <tr>\n",
       "      <th>4</th>\n",
       "      <td>1</td>\n",
       "      <td>11731</td>\n",
       "      <td>1</td>\n",
       "      <td>746.0</td>\n",
       "      <td>4</td>\n",
       "      <td>2</td>\n",
       "      <td>50025.0</td>\n",
       "      <td>3</td>\n",
       "      <td>355.18</td>\n",
       "      <td>11.5</td>\n",
       "      <td>0.0</td>\n",
       "      <td>12</td>\n",
       "      <td>0</td>\n",
       "      <td>17391</td>\n",
       "      <td>37081.0</td>\n",
       "      <td>0.0</td>\n",
       "      <td>0.0</td>\n",
       "    </tr>\n",
       "  </tbody>\n",
       "</table>\n",
       "</div>"
      ],
      "text/plain": [
       "   Loan Status  Current Loan Amount  Term  Credit Score  Years in current job  \\\n",
       "0            1                11520     1         741.0                    10   \n",
       "1            1                 3441     1         734.0                     4   \n",
       "2            1                21029     1         747.0                    10   \n",
       "3            1                18743     1         747.0                    10   \n",
       "4            1                11731     1         746.0                     4   \n",
       "\n",
       "   Home Ownership  Annual Income  Purpose  Monthly Debt  \\\n",
       "0               0        33694.0        3        584.03   \n",
       "1               0        42269.0        7       1106.04   \n",
       "2               0        90126.0        3       1321.85   \n",
       "3               1        38072.0        3        751.92   \n",
       "4               2        50025.0        3        355.18   \n",
       "\n",
       "   Years of Credit History  Months since last delinquent  \\\n",
       "0                     12.3                          41.0   \n",
       "1                     26.3                           0.0   \n",
       "2                     28.8                           0.0   \n",
       "3                     26.2                           0.0   \n",
       "4                     11.5                           0.0   \n",
       "\n",
       "   Number of Open Accounts  Number of Credit Problems  Current Credit Balance  \\\n",
       "0                       10                          0                    6760   \n",
       "1                       17                          0                    6262   \n",
       "2                        5                          0                   20967   \n",
       "3                        9                          0                   22529   \n",
       "4                       12                          0                   17391   \n",
       "\n",
       "   Maximum Open Credit  Bankruptcies  Tax Liens  \n",
       "0              16056.0           0.0        0.0  \n",
       "1              19149.0           0.0        0.0  \n",
       "2              28335.0           0.0        0.0  \n",
       "3              43915.0           0.0        0.0  \n",
       "4              37081.0           0.0        0.0  "
      ]
     },
     "execution_count": 64,
     "metadata": {},
     "output_type": "execute_result"
    }
   ],
   "source": [
    "#We will not be using the Loan ID and Customer ID in our models as it can cause problems with the results, given that they are not meaningful to Loan Status.\n",
    "loan_ml = loan.drop(['Loan ID', 'Customer ID'], axis=1)\n",
    "loan_ml.head()"
   ]
  },
  {
   "cell_type": "code",
   "execution_count": 65,
   "id": "dae94cb5",
   "metadata": {},
   "outputs": [
    {
     "data": {
      "text/html": [
       "<div>\n",
       "<style scoped>\n",
       "    .dataframe tbody tr th:only-of-type {\n",
       "        vertical-align: middle;\n",
       "    }\n",
       "\n",
       "    .dataframe tbody tr th {\n",
       "        vertical-align: top;\n",
       "    }\n",
       "\n",
       "    .dataframe thead th {\n",
       "        text-align: right;\n",
       "    }\n",
       "</style>\n",
       "<table border=\"1\" class=\"dataframe\">\n",
       "  <thead>\n",
       "    <tr style=\"text-align: right;\">\n",
       "      <th></th>\n",
       "      <th>Current Loan Amount</th>\n",
       "      <th>Term</th>\n",
       "      <th>Credit Score</th>\n",
       "      <th>Years in current job</th>\n",
       "      <th>Home Ownership</th>\n",
       "      <th>Annual Income</th>\n",
       "      <th>Purpose</th>\n",
       "      <th>Monthly Debt</th>\n",
       "      <th>Years of Credit History</th>\n",
       "      <th>Months since last delinquent</th>\n",
       "      <th>Number of Open Accounts</th>\n",
       "      <th>Number of Credit Problems</th>\n",
       "      <th>Current Credit Balance</th>\n",
       "      <th>Maximum Open Credit</th>\n",
       "      <th>Bankruptcies</th>\n",
       "      <th>Tax Liens</th>\n",
       "    </tr>\n",
       "  </thead>\n",
       "  <tbody>\n",
       "    <tr>\n",
       "      <th>109344</th>\n",
       "      <td>12126</td>\n",
       "      <td>1</td>\n",
       "      <td>747.0</td>\n",
       "      <td>9</td>\n",
       "      <td>0</td>\n",
       "      <td>77809.0</td>\n",
       "      <td>3</td>\n",
       "      <td>1169.08</td>\n",
       "      <td>24.0</td>\n",
       "      <td>0.0</td>\n",
       "      <td>17</td>\n",
       "      <td>0</td>\n",
       "      <td>75140</td>\n",
       "      <td>115957.0</td>\n",
       "      <td>0.0</td>\n",
       "      <td>0.0</td>\n",
       "    </tr>\n",
       "    <tr>\n",
       "      <th>166183</th>\n",
       "      <td>14934</td>\n",
       "      <td>0</td>\n",
       "      <td>703.0</td>\n",
       "      <td>10</td>\n",
       "      <td>1</td>\n",
       "      <td>69692.0</td>\n",
       "      <td>3</td>\n",
       "      <td>1173.15</td>\n",
       "      <td>18.2</td>\n",
       "      <td>22.0</td>\n",
       "      <td>9</td>\n",
       "      <td>0</td>\n",
       "      <td>11159</td>\n",
       "      <td>12945.0</td>\n",
       "      <td>0.0</td>\n",
       "      <td>0.0</td>\n",
       "    </tr>\n",
       "    <tr>\n",
       "      <th>52038</th>\n",
       "      <td>30699</td>\n",
       "      <td>1</td>\n",
       "      <td>744.0</td>\n",
       "      <td>4</td>\n",
       "      <td>0</td>\n",
       "      <td>65241.0</td>\n",
       "      <td>3</td>\n",
       "      <td>918.81</td>\n",
       "      <td>21.5</td>\n",
       "      <td>0.0</td>\n",
       "      <td>10</td>\n",
       "      <td>0</td>\n",
       "      <td>33450</td>\n",
       "      <td>66502.0</td>\n",
       "      <td>0.0</td>\n",
       "      <td>0.0</td>\n",
       "    </tr>\n",
       "    <tr>\n",
       "      <th>220507</th>\n",
       "      <td>18850</td>\n",
       "      <td>1</td>\n",
       "      <td>717.0</td>\n",
       "      <td>10</td>\n",
       "      <td>1</td>\n",
       "      <td>64571.0</td>\n",
       "      <td>3</td>\n",
       "      <td>1016.99</td>\n",
       "      <td>17.5</td>\n",
       "      <td>0.0</td>\n",
       "      <td>11</td>\n",
       "      <td>1</td>\n",
       "      <td>3254</td>\n",
       "      <td>15798.0</td>\n",
       "      <td>1.0</td>\n",
       "      <td>0.0</td>\n",
       "    </tr>\n",
       "    <tr>\n",
       "      <th>44285</th>\n",
       "      <td>7140</td>\n",
       "      <td>0</td>\n",
       "      <td>717.0</td>\n",
       "      <td>10</td>\n",
       "      <td>0</td>\n",
       "      <td>74370.0</td>\n",
       "      <td>3</td>\n",
       "      <td>545.38</td>\n",
       "      <td>20.0</td>\n",
       "      <td>0.0</td>\n",
       "      <td>10</td>\n",
       "      <td>0</td>\n",
       "      <td>3805</td>\n",
       "      <td>35894.0</td>\n",
       "      <td>0.0</td>\n",
       "      <td>0.0</td>\n",
       "    </tr>\n",
       "  </tbody>\n",
       "</table>\n",
       "</div>"
      ],
      "text/plain": [
       "        Current Loan Amount  Term  Credit Score  Years in current job  \\\n",
       "109344                12126     1         747.0                     9   \n",
       "166183                14934     0         703.0                    10   \n",
       "52038                 30699     1         744.0                     4   \n",
       "220507                18850     1         717.0                    10   \n",
       "44285                  7140     0         717.0                    10   \n",
       "\n",
       "        Home Ownership  Annual Income  Purpose  Monthly Debt  \\\n",
       "109344               0        77809.0        3       1169.08   \n",
       "166183               1        69692.0        3       1173.15   \n",
       "52038                0        65241.0        3        918.81   \n",
       "220507               1        64571.0        3       1016.99   \n",
       "44285                0        74370.0        3        545.38   \n",
       "\n",
       "        Years of Credit History  Months since last delinquent  \\\n",
       "109344                     24.0                           0.0   \n",
       "166183                     18.2                          22.0   \n",
       "52038                      21.5                           0.0   \n",
       "220507                     17.5                           0.0   \n",
       "44285                      20.0                           0.0   \n",
       "\n",
       "        Number of Open Accounts  Number of Credit Problems  \\\n",
       "109344                       17                          0   \n",
       "166183                        9                          0   \n",
       "52038                        10                          0   \n",
       "220507                       11                          1   \n",
       "44285                        10                          0   \n",
       "\n",
       "        Current Credit Balance  Maximum Open Credit  Bankruptcies  Tax Liens  \n",
       "109344                   75140             115957.0           0.0        0.0  \n",
       "166183                   11159              12945.0           0.0        0.0  \n",
       "52038                    33450              66502.0           0.0        0.0  \n",
       "220507                    3254              15798.0           1.0        0.0  \n",
       "44285                     3805              35894.0           0.0        0.0  "
      ]
     },
     "execution_count": 65,
     "metadata": {},
     "output_type": "execute_result"
    }
   ],
   "source": [
    "features = loan_ml.drop(['Loan Status'], axis=1)\n",
    "labels = loan_ml['Loan Status']\n",
    "\n",
    "x_train, x_test, y_train, y_test = train_test_split(features, labels, test_size=0.4, random_state=42)\n",
    "x_val, x_test, y_val, y_test = train_test_split(x_test, y_test, test_size=0.5, random_state=42)\n",
    "\n",
    "x_train.head()"
   ]
  },
  {
   "cell_type": "code",
   "execution_count": 66,
   "id": "8253bb2a",
   "metadata": {},
   "outputs": [
    {
     "name": "stdout",
     "output_type": "stream",
     "text": [
      "0.6\n",
      "0.2\n",
      "0.2\n"
     ]
    }
   ],
   "source": [
    "for dataset in [y_train, y_val, y_test]:\n",
    "    print(round(len(dataset)/ len(labels), 2))"
   ]
  },
  {
   "cell_type": "markdown",
   "id": "ab9749ec",
   "metadata": {},
   "source": [
    "## Part 5: Machine Learning: Applying Random Forest"
   ]
  },
  {
   "cell_type": "markdown",
   "id": "1038b233",
   "metadata": {},
   "source": [
    "x_train.to_csv('data/train_features.csv', index=False)\n",
    "x_val.to_csv('data/val_features.csv', index=False)\n",
    "x_test.to_csv('data/test_features.csv', index=False)\n",
    "\n",
    "y_train.to_csv('data/train_labels.csv', index=False)\n",
    "y_val.to_csv('data/val_labels.csv', index=False)\n",
    "y_test.to_csv('data/test_labels.csv', index=False)"
   ]
  },
  {
   "cell_type": "markdown",
   "id": "9a72ab8f",
   "metadata": {},
   "source": [
    "### GridSearchCV"
   ]
  },
  {
   "cell_type": "code",
   "execution_count": 67,
   "id": "dc94d6c7",
   "metadata": {},
   "outputs": [],
   "source": [
    "def print_results(results):\n",
    "    print(f'BEST PARAMS: {results.best_params_}')\n",
    "    \n",
    "    means = results.cv_results_['mean_test_score']\n",
    "    stds = results.cv_results_['std_test_score']\n",
    "    for mean, std, params in zip(means, stds, results.cv_results_['params']):\n",
    "        print(f'{round(mean,3)} (+/- { round(std*2, 3)}) for { params}')"
   ]
  },
  {
   "cell_type": "code",
   "execution_count": 68,
   "id": "405937b5",
   "metadata": {},
   "outputs": [
    {
     "name": "stdout",
     "output_type": "stream",
     "text": [
      "BEST PARAMS: {'max_depth': 2, 'n_estimators': 8}\n",
      "0.916 (+/- 0.0) for {'max_depth': 2, 'n_estimators': 8}\n",
      "0.916 (+/- 0.0) for {'max_depth': 2, 'n_estimators': 16}\n",
      "0.916 (+/- 0.0) for {'max_depth': 2, 'n_estimators': 32}\n",
      "0.916 (+/- 0.0) for {'max_depth': 4, 'n_estimators': 8}\n",
      "0.916 (+/- 0.0) for {'max_depth': 4, 'n_estimators': 16}\n",
      "0.916 (+/- 0.0) for {'max_depth': 4, 'n_estimators': 32}\n",
      "0.916 (+/- 0.0) for {'max_depth': 6, 'n_estimators': 8}\n",
      "0.916 (+/- 0.0) for {'max_depth': 6, 'n_estimators': 16}\n",
      "0.916 (+/- 0.0) for {'max_depth': 6, 'n_estimators': 32}\n",
      "0.916 (+/- 0.0) for {'max_depth': 8, 'n_estimators': 8}\n",
      "0.916 (+/- 0.0) for {'max_depth': 8, 'n_estimators': 16}\n",
      "0.916 (+/- 0.0) for {'max_depth': 8, 'n_estimators': 32}\n",
      "0.903 (+/- 0.002) for {'max_depth': None, 'n_estimators': 8}\n",
      "0.912 (+/- 0.001) for {'max_depth': None, 'n_estimators': 16}\n",
      "0.915 (+/- 0.0) for {'max_depth': None, 'n_estimators': 32}\n"
     ]
    }
   ],
   "source": [
    "# Conduct search for best params while running crosss-validation (GridSearchCV)\n",
    "\n",
    "rf = RandomForestClassifier()\n",
    "parameters = {\n",
    "    'n_estimators': [2**i for i in range(3, 6)],\n",
    "    'max_depth': [2, 4, 6, 8, None]\n",
    "}\n",
    "\n",
    "cv = GridSearchCV(rf, parameters, cv=5)\n",
    "cv.fit(x_train, y_train.values.ravel())\n",
    "\n",
    "print_results(cv)"
   ]
  },
  {
   "cell_type": "code",
   "execution_count": 70,
   "id": "5f91a0e0",
   "metadata": {},
   "outputs": [
    {
     "data": {
      "text/plain": [
       "RandomForestClassifier(max_depth=2, n_estimators=8)"
      ]
     },
     "execution_count": 70,
     "metadata": {},
     "output_type": "execute_result"
    }
   ],
   "source": [
    "cv.best_estimator_"
   ]
  },
  {
   "cell_type": "code",
   "execution_count": 71,
   "id": "0661cde9",
   "metadata": {},
   "outputs": [
    {
     "data": {
      "text/plain": [
       "{'max_depth': 2, 'n_estimators': 8}"
      ]
     },
     "execution_count": 71,
     "metadata": {},
     "output_type": "execute_result"
    }
   ],
   "source": [
    "cv.best_params_"
   ]
  },
  {
   "cell_type": "code",
   "execution_count": 72,
   "id": "0910482f",
   "metadata": {},
   "outputs": [
    {
     "data": {
      "text/plain": [
       "0.9164264144493192"
      ]
     },
     "execution_count": 72,
     "metadata": {},
     "output_type": "execute_result"
    }
   ],
   "source": [
    "cv.best_score_"
   ]
  },
  {
   "cell_type": "markdown",
   "id": "5cffa26b",
   "metadata": {},
   "source": [
    "The results for the Random Forest Classifier gives us a best score of 91%, with best params of max depth 2 and estimators of 8."
   ]
  },
  {
   "cell_type": "code",
   "execution_count": 75,
   "id": "5134f4e9",
   "metadata": {},
   "outputs": [
    {
     "data": {
      "image/png": "[encoded data removed]",
      "text/plain": [
       "<Figure size 432x288 with 1 Axes>"
      ]
     },
     "metadata": {},
     "output_type": "display_data"
    }
   ],
   "source": [
    "#Generate feature importance plot\n",
    "feat_imp = cv.best_estimator_.feature_importances_\n",
    "indices = np.argsort(feat_imp)\n",
    "pp.yticks(range(len(indices)), [x_train.columns[i] for i in indices])\n",
    "pp.barh(range(len(indices)), feat_imp[indices], color='r', align='center')\n",
    "pp.show()"
   ]
  },
  {
   "cell_type": "markdown",
   "id": "c8e26698",
   "metadata": {},
   "source": [
    "* Term plays the most significant role in determing Loan status, with a weight of 0.35.\n",
    "* Credit score surprisnly comes second in determing Loan status, with a weight of 2.25\n",
    "* The other two factors that play a significant role are Current Loan Amount and Annual Income."
   ]
  },
  {
   "cell_type": "code",
   "execution_count": 81,
   "id": "636bfbcc",
   "metadata": {},
   "outputs": [
    {
     "data": {
      "text/plain": [
       "['rfc_1.pk1']"
      ]
     },
     "execution_count": 81,
     "metadata": {},
     "output_type": "execute_result"
    }
   ],
   "source": [
    "# Write out the model fit on the whole training set\n",
    "joblib.dump(cv.best_estimator_, 'rfc_1.pk1')"
   ]
  },
  {
   "cell_type": "code",
   "execution_count": null,
   "id": "2f343477",
   "metadata": {},
   "outputs": [],
   "source": []
  }
 ],
 "metadata": {
  "kernelspec": {
   "display_name": "Python 3 (ipykernel)",
   "language": "python",
   "name": "python3"
  },
  "language_info": {
   "codemirror_mode": {
    "name": "ipython",
    "version": 3
   },
   "file_extension": ".py",
   "mimetype": "text/x-python",
   "name": "python",
   "nbconvert_exporter": "python",
   "pygments_lexer": "ipython3",
   "version": "3.8.3"
  }
 },
 "nbformat": 4,
 "nbformat_minor": 5
}
